{
  "nbformat": 4,
  "nbformat_minor": 0,
  "metadata": {
    "colab": {
      "provenance": [],
      "authorship_tag": "ABX9TyMW5+FiPzdC1ECqXnElxPmW",
      "include_colab_link": true
    },
    "kernelspec": {
      "name": "python3",
      "display_name": "Python 3"
    },
    "language_info": {
      "name": "python"
    }
  },
  "cells": [
    {
      "cell_type": "markdown",
      "metadata": {
        "id": "view-in-github",
        "colab_type": "text"
      },
      "source": [
        "<a href=\"https://colab.research.google.com/github/OmamoMoses/Python_Sample1/blob/main/SAMPLE_PROJECT.ipynb\" target=\"_parent\"><img src=\"https://colab.research.google.com/assets/colab-badge.svg\" alt=\"Open In Colab\"/></a>"
      ]
    },
    {
      "cell_type": "markdown",
      "source": [
        "#**COLLEGE OF SCIENCE AND ENGINEERING**\n",
        "\n",
        "#**SCHOOL OF COMPUTER SCIENCE AND ENGINEERING**\n",
        "\n",
        "#**ASSESSMENT**"
      ],
      "metadata": {
        "id": "E7GroOVUlytt"
      }
    },
    {
      "cell_type": "markdown",
      "source": [
        "## A.**EXPLORING THE DATASET USING PANDAS**"
      ],
      "metadata": {
        "id": "gCdvBp8po-HT"
      }
    },
    {
      "cell_type": "markdown",
      "source": [
        "In this phase, we dive into the data, aiming to understand its characteristics, uncover potential trends, and identify anomalies.\n",
        "\n",
        "The primary objective is to gain a comprehensive overview of the dataset's structure, distributions, and relationships between variables. This process involves employing statistical summaries, visualizations, and various exploratory techniques to reveal hidden patterns, outliers, and correlations."
      ],
      "metadata": {
        "id": "XtkCpcHCn1fu"
      }
    },
    {
      "cell_type": "markdown",
      "source": [
        "**IMPORT THE NECESSARY LIBLARIES**"
      ],
      "metadata": {
        "id": "tLcdmFBoolNu"
      }
    },
    {
      "cell_type": "code",
      "source": [
        "import pandas as pd\n",
        "import numpy as np\n",
        "import matplotlib.pyplot as plt\n",
        "\n",
        "from sklearn.metrics import mean_squared_error as MSE\n",
        "from sklearn.model_selection import train_test_split\n",
        "from sklearn.model_selection import KFold\n",
        "from sklearn.linear_model import LinearRegression,Ridge, RidgeCV, Lasso, LassoCV\n",
        "from sklearn.pipeline import make_pipeline\n",
        "from sklearn.model_selection import GridSearchCV,train_test_split, cross_val_score, KFold\n",
        "\n",
        "from sklearn.preprocessing import StandardScaler,PolynomialFeatures\n",
        "from mlxtend.feature_selection import SequentialFeatureSelector\n",
        "\n",
        "\n",
        "\n"
      ],
      "metadata": {
        "id": "WAIIgSN1oqwf"
      },
      "execution_count": null,
      "outputs": []
    },
    {
      "cell_type": "markdown",
      "source": [
        "#A1.Introducing the Houses Price Dataset."
      ],
      "metadata": {
        "id": "uP-1yrHGpxBD"
      }
    },
    {
      "cell_type": "code",
      "source": [
        "# We seek to conduct investigation on the house prices data saved as house_data.csv.\n",
        "# We therefore load the dataset file as the data file(Df) and peek into the first 10 rows and collumn heads.\n",
        "\n",
        "Df = pd.read_csv('house_data.csv')\n",
        "Df.head(10)"
      ],
      "metadata": {
        "colab": {
          "base_uri": "https://localhost:8080/",
          "height": 413
        },
        "id": "JS25zRLZtoCa",
        "outputId": "a0abe284-cb38-4aac-cc97-ad8cfbd8c0a2"
      },
      "execution_count": null,
      "outputs": [
        {
          "output_type": "execute_result",
          "data": {
            "text/plain": [
              "           id             date      price  bedrooms  bathrooms  sqft_living  \\\n",
              "0  7129300520  20141013T000000   221900.0         3       1.00         1180   \n",
              "1  6414100192  20141209T000000   538000.0         3       2.25         2570   \n",
              "2  5631500400  20150225T000000   180000.0         2       1.00          770   \n",
              "3  2487200875  20141209T000000   604000.0         4       3.00         1960   \n",
              "4  1954400510  20150218T000000   510000.0         3       2.00         1680   \n",
              "5  7237550310  20140512T000000  1225000.0         4       4.50         5420   \n",
              "6  1321400060  20140627T000000   257500.0         3       2.25         1715   \n",
              "7  2008000270  20150115T000000   291850.0         3       1.50         1060   \n",
              "8  2414600126  20150415T000000   229500.0         3       1.00         1780   \n",
              "9  3793500160  20150312T000000   323000.0         3       2.50         1890   \n",
              "\n",
              "   sqft_lot  floors  waterfront  view  ...  grade  sqft_above  sqft_basement  \\\n",
              "0      5650     1.0           0     0  ...      7        1180              0   \n",
              "1      7242     2.0           0     0  ...      7        2170            400   \n",
              "2     10000     1.0           0     0  ...      6         770              0   \n",
              "3      5000     1.0           0     0  ...      7        1050            910   \n",
              "4      8080     1.0           0     0  ...      8        1680              0   \n",
              "5    101930     1.0           0     0  ...     11        3890           1530   \n",
              "6      6819     2.0           0     0  ...      7        1715              0   \n",
              "7      9711     1.0           0     0  ...      7        1060              0   \n",
              "8      7470     1.0           0     0  ...      7        1050            730   \n",
              "9      6560     2.0           0     0  ...      7        1890              0   \n",
              "\n",
              "   yr_built  yr_renovated  zipcode      lat     long  sqft_living15  \\\n",
              "0      1955             0    98178  47.5112 -122.257           1340   \n",
              "1      1951          1991    98125  47.7210 -122.319           1690   \n",
              "2      1933             0    98028  47.7379 -122.233           2720   \n",
              "3      1965             0    98136  47.5208 -122.393           1360   \n",
              "4      1987             0    98074  47.6168 -122.045           1800   \n",
              "5      2001             0    98053  47.6561 -122.005           4760   \n",
              "6      1995             0    98003  47.3097 -122.327           2238   \n",
              "7      1963             0    98198  47.4095 -122.315           1650   \n",
              "8      1960             0    98146  47.5123 -122.337           1780   \n",
              "9      2003             0    98038  47.3684 -122.031           2390   \n",
              "\n",
              "   sqft_lot15  \n",
              "0        5650  \n",
              "1        7639  \n",
              "2        8062  \n",
              "3        5000  \n",
              "4        7503  \n",
              "5      101930  \n",
              "6        6819  \n",
              "7        9711  \n",
              "8        8113  \n",
              "9        7570  \n",
              "\n",
              "[10 rows x 21 columns]"
            ],
            "text/html": [
              "\n",
              "  <div id=\"df-d2935537-ce81-44f1-810b-879b6f46df29\" class=\"colab-df-container\">\n",
              "    <div>\n",
              "<style scoped>\n",
              "    .dataframe tbody tr th:only-of-type {\n",
              "        vertical-align: middle;\n",
              "    }\n",
              "\n",
              "    .dataframe tbody tr th {\n",
              "        vertical-align: top;\n",
              "    }\n",
              "\n",
              "    .dataframe thead th {\n",
              "        text-align: right;\n",
              "    }\n",
              "</style>\n",
              "<table border=\"1\" class=\"dataframe\">\n",
              "  <thead>\n",
              "    <tr style=\"text-align: right;\">\n",
              "      <th></th>\n",
              "      <th>id</th>\n",
              "      <th>date</th>\n",
              "      <th>price</th>\n",
              "      <th>bedrooms</th>\n",
              "      <th>bathrooms</th>\n",
              "      <th>sqft_living</th>\n",
              "      <th>sqft_lot</th>\n",
              "      <th>floors</th>\n",
              "      <th>waterfront</th>\n",
              "      <th>view</th>\n",
              "      <th>...</th>\n",
              "      <th>grade</th>\n",
              "      <th>sqft_above</th>\n",
              "      <th>sqft_basement</th>\n",
              "      <th>yr_built</th>\n",
              "      <th>yr_renovated</th>\n",
              "      <th>zipcode</th>\n",
              "      <th>lat</th>\n",
              "      <th>long</th>\n",
              "      <th>sqft_living15</th>\n",
              "      <th>sqft_lot15</th>\n",
              "    </tr>\n",
              "  </thead>\n",
              "  <tbody>\n",
              "    <tr>\n",
              "      <th>0</th>\n",
              "      <td>7129300520</td>\n",
              "      <td>20141013T000000</td>\n",
              "      <td>221900.0</td>\n",
              "      <td>3</td>\n",
              "      <td>1.00</td>\n",
              "      <td>1180</td>\n",
              "      <td>5650</td>\n",
              "      <td>1.0</td>\n",
              "      <td>0</td>\n",
              "      <td>0</td>\n",
              "      <td>...</td>\n",
              "      <td>7</td>\n",
              "      <td>1180</td>\n",
              "      <td>0</td>\n",
              "      <td>1955</td>\n",
              "      <td>0</td>\n",
              "      <td>98178</td>\n",
              "      <td>47.5112</td>\n",
              "      <td>-122.257</td>\n",
              "      <td>1340</td>\n",
              "      <td>5650</td>\n",
              "    </tr>\n",
              "    <tr>\n",
              "      <th>1</th>\n",
              "      <td>6414100192</td>\n",
              "      <td>20141209T000000</td>\n",
              "      <td>538000.0</td>\n",
              "      <td>3</td>\n",
              "      <td>2.25</td>\n",
              "      <td>2570</td>\n",
              "      <td>7242</td>\n",
              "      <td>2.0</td>\n",
              "      <td>0</td>\n",
              "      <td>0</td>\n",
              "      <td>...</td>\n",
              "      <td>7</td>\n",
              "      <td>2170</td>\n",
              "      <td>400</td>\n",
              "      <td>1951</td>\n",
              "      <td>1991</td>\n",
              "      <td>98125</td>\n",
              "      <td>47.7210</td>\n",
              "      <td>-122.319</td>\n",
              "      <td>1690</td>\n",
              "      <td>7639</td>\n",
              "    </tr>\n",
              "    <tr>\n",
              "      <th>2</th>\n",
              "      <td>5631500400</td>\n",
              "      <td>20150225T000000</td>\n",
              "      <td>180000.0</td>\n",
              "      <td>2</td>\n",
              "      <td>1.00</td>\n",
              "      <td>770</td>\n",
              "      <td>10000</td>\n",
              "      <td>1.0</td>\n",
              "      <td>0</td>\n",
              "      <td>0</td>\n",
              "      <td>...</td>\n",
              "      <td>6</td>\n",
              "      <td>770</td>\n",
              "      <td>0</td>\n",
              "      <td>1933</td>\n",
              "      <td>0</td>\n",
              "      <td>98028</td>\n",
              "      <td>47.7379</td>\n",
              "      <td>-122.233</td>\n",
              "      <td>2720</td>\n",
              "      <td>8062</td>\n",
              "    </tr>\n",
              "    <tr>\n",
              "      <th>3</th>\n",
              "      <td>2487200875</td>\n",
              "      <td>20141209T000000</td>\n",
              "      <td>604000.0</td>\n",
              "      <td>4</td>\n",
              "      <td>3.00</td>\n",
              "      <td>1960</td>\n",
              "      <td>5000</td>\n",
              "      <td>1.0</td>\n",
              "      <td>0</td>\n",
              "      <td>0</td>\n",
              "      <td>...</td>\n",
              "      <td>7</td>\n",
              "      <td>1050</td>\n",
              "      <td>910</td>\n",
              "      <td>1965</td>\n",
              "      <td>0</td>\n",
              "      <td>98136</td>\n",
              "      <td>47.5208</td>\n",
              "      <td>-122.393</td>\n",
              "      <td>1360</td>\n",
              "      <td>5000</td>\n",
              "    </tr>\n",
              "    <tr>\n",
              "      <th>4</th>\n",
              "      <td>1954400510</td>\n",
              "      <td>20150218T000000</td>\n",
              "      <td>510000.0</td>\n",
              "      <td>3</td>\n",
              "      <td>2.00</td>\n",
              "      <td>1680</td>\n",
              "      <td>8080</td>\n",
              "      <td>1.0</td>\n",
              "      <td>0</td>\n",
              "      <td>0</td>\n",
              "      <td>...</td>\n",
              "      <td>8</td>\n",
              "      <td>1680</td>\n",
              "      <td>0</td>\n",
              "      <td>1987</td>\n",
              "      <td>0</td>\n",
              "      <td>98074</td>\n",
              "      <td>47.6168</td>\n",
              "      <td>-122.045</td>\n",
              "      <td>1800</td>\n",
              "      <td>7503</td>\n",
              "    </tr>\n",
              "    <tr>\n",
              "      <th>5</th>\n",
              "      <td>7237550310</td>\n",
              "      <td>20140512T000000</td>\n",
              "      <td>1225000.0</td>\n",
              "      <td>4</td>\n",
              "      <td>4.50</td>\n",
              "      <td>5420</td>\n",
              "      <td>101930</td>\n",
              "      <td>1.0</td>\n",
              "      <td>0</td>\n",
              "      <td>0</td>\n",
              "      <td>...</td>\n",
              "      <td>11</td>\n",
              "      <td>3890</td>\n",
              "      <td>1530</td>\n",
              "      <td>2001</td>\n",
              "      <td>0</td>\n",
              "      <td>98053</td>\n",
              "      <td>47.6561</td>\n",
              "      <td>-122.005</td>\n",
              "      <td>4760</td>\n",
              "      <td>101930</td>\n",
              "    </tr>\n",
              "    <tr>\n",
              "      <th>6</th>\n",
              "      <td>1321400060</td>\n",
              "      <td>20140627T000000</td>\n",
              "      <td>257500.0</td>\n",
              "      <td>3</td>\n",
              "      <td>2.25</td>\n",
              "      <td>1715</td>\n",
              "      <td>6819</td>\n",
              "      <td>2.0</td>\n",
              "      <td>0</td>\n",
              "      <td>0</td>\n",
              "      <td>...</td>\n",
              "      <td>7</td>\n",
              "      <td>1715</td>\n",
              "      <td>0</td>\n",
              "      <td>1995</td>\n",
              "      <td>0</td>\n",
              "      <td>98003</td>\n",
              "      <td>47.3097</td>\n",
              "      <td>-122.327</td>\n",
              "      <td>2238</td>\n",
              "      <td>6819</td>\n",
              "    </tr>\n",
              "    <tr>\n",
              "      <th>7</th>\n",
              "      <td>2008000270</td>\n",
              "      <td>20150115T000000</td>\n",
              "      <td>291850.0</td>\n",
              "      <td>3</td>\n",
              "      <td>1.50</td>\n",
              "      <td>1060</td>\n",
              "      <td>9711</td>\n",
              "      <td>1.0</td>\n",
              "      <td>0</td>\n",
              "      <td>0</td>\n",
              "      <td>...</td>\n",
              "      <td>7</td>\n",
              "      <td>1060</td>\n",
              "      <td>0</td>\n",
              "      <td>1963</td>\n",
              "      <td>0</td>\n",
              "      <td>98198</td>\n",
              "      <td>47.4095</td>\n",
              "      <td>-122.315</td>\n",
              "      <td>1650</td>\n",
              "      <td>9711</td>\n",
              "    </tr>\n",
              "    <tr>\n",
              "      <th>8</th>\n",
              "      <td>2414600126</td>\n",
              "      <td>20150415T000000</td>\n",
              "      <td>229500.0</td>\n",
              "      <td>3</td>\n",
              "      <td>1.00</td>\n",
              "      <td>1780</td>\n",
              "      <td>7470</td>\n",
              "      <td>1.0</td>\n",
              "      <td>0</td>\n",
              "      <td>0</td>\n",
              "      <td>...</td>\n",
              "      <td>7</td>\n",
              "      <td>1050</td>\n",
              "      <td>730</td>\n",
              "      <td>1960</td>\n",
              "      <td>0</td>\n",
              "      <td>98146</td>\n",
              "      <td>47.5123</td>\n",
              "      <td>-122.337</td>\n",
              "      <td>1780</td>\n",
              "      <td>8113</td>\n",
              "    </tr>\n",
              "    <tr>\n",
              "      <th>9</th>\n",
              "      <td>3793500160</td>\n",
              "      <td>20150312T000000</td>\n",
              "      <td>323000.0</td>\n",
              "      <td>3</td>\n",
              "      <td>2.50</td>\n",
              "      <td>1890</td>\n",
              "      <td>6560</td>\n",
              "      <td>2.0</td>\n",
              "      <td>0</td>\n",
              "      <td>0</td>\n",
              "      <td>...</td>\n",
              "      <td>7</td>\n",
              "      <td>1890</td>\n",
              "      <td>0</td>\n",
              "      <td>2003</td>\n",
              "      <td>0</td>\n",
              "      <td>98038</td>\n",
              "      <td>47.3684</td>\n",
              "      <td>-122.031</td>\n",
              "      <td>2390</td>\n",
              "      <td>7570</td>\n",
              "    </tr>\n",
              "  </tbody>\n",
              "</table>\n",
              "<p>10 rows × 21 columns</p>\n",
              "</div>\n",
              "    <div class=\"colab-df-buttons\">\n",
              "\n",
              "  <div class=\"colab-df-container\">\n",
              "    <button class=\"colab-df-convert\" onclick=\"convertToInteractive('df-d2935537-ce81-44f1-810b-879b6f46df29')\"\n",
              "            title=\"Convert this dataframe to an interactive table.\"\n",
              "            style=\"display:none;\">\n",
              "\n",
              "  <svg xmlns=\"http://www.w3.org/2000/svg\" height=\"24px\" viewBox=\"0 -960 960 960\">\n",
              "    <path d=\"M120-120v-720h720v720H120Zm60-500h600v-160H180v160Zm220 220h160v-160H400v160Zm0 220h160v-160H400v160ZM180-400h160v-160H180v160Zm440 0h160v-160H620v160ZM180-180h160v-160H180v160Zm440 0h160v-160H620v160Z\"/>\n",
              "  </svg>\n",
              "    </button>\n",
              "\n",
              "  <style>\n",
              "    .colab-df-container {\n",
              "      display:flex;\n",
              "      gap: 12px;\n",
              "    }\n",
              "\n",
              "    .colab-df-convert {\n",
              "      background-color: #E8F0FE;\n",
              "      border: none;\n",
              "      border-radius: 50%;\n",
              "      cursor: pointer;\n",
              "      display: none;\n",
              "      fill: #1967D2;\n",
              "      height: 32px;\n",
              "      padding: 0 0 0 0;\n",
              "      width: 32px;\n",
              "    }\n",
              "\n",
              "    .colab-df-convert:hover {\n",
              "      background-color: #E2EBFA;\n",
              "      box-shadow: 0px 1px 2px rgba(60, 64, 67, 0.3), 0px 1px 3px 1px rgba(60, 64, 67, 0.15);\n",
              "      fill: #174EA6;\n",
              "    }\n",
              "\n",
              "    .colab-df-buttons div {\n",
              "      margin-bottom: 4px;\n",
              "    }\n",
              "\n",
              "    [theme=dark] .colab-df-convert {\n",
              "      background-color: #3B4455;\n",
              "      fill: #D2E3FC;\n",
              "    }\n",
              "\n",
              "    [theme=dark] .colab-df-convert:hover {\n",
              "      background-color: #434B5C;\n",
              "      box-shadow: 0px 1px 3px 1px rgba(0, 0, 0, 0.15);\n",
              "      filter: drop-shadow(0px 1px 2px rgba(0, 0, 0, 0.3));\n",
              "      fill: #FFFFFF;\n",
              "    }\n",
              "  </style>\n",
              "\n",
              "    <script>\n",
              "      const buttonEl =\n",
              "        document.querySelector('#df-d2935537-ce81-44f1-810b-879b6f46df29 button.colab-df-convert');\n",
              "      buttonEl.style.display =\n",
              "        google.colab.kernel.accessAllowed ? 'block' : 'none';\n",
              "\n",
              "      async function convertToInteractive(key) {\n",
              "        const element = document.querySelector('#df-d2935537-ce81-44f1-810b-879b6f46df29');\n",
              "        const dataTable =\n",
              "          await google.colab.kernel.invokeFunction('convertToInteractive',\n",
              "                                                    [key], {});\n",
              "        if (!dataTable) return;\n",
              "\n",
              "        const docLinkHtml = 'Like what you see? Visit the ' +\n",
              "          '<a target=\"_blank\" href=https://colab.research.google.com/notebooks/data_table.ipynb>data table notebook</a>'\n",
              "          + ' to learn more about interactive tables.';\n",
              "        element.innerHTML = '';\n",
              "        dataTable['output_type'] = 'display_data';\n",
              "        await google.colab.output.renderOutput(dataTable, element);\n",
              "        const docLink = document.createElement('div');\n",
              "        docLink.innerHTML = docLinkHtml;\n",
              "        element.appendChild(docLink);\n",
              "      }\n",
              "    </script>\n",
              "  </div>\n",
              "\n",
              "\n",
              "<div id=\"df-f1fdb4d6-e7fb-4a1a-b55e-5cc5e57cab60\">\n",
              "  <button class=\"colab-df-quickchart\" onclick=\"quickchart('df-f1fdb4d6-e7fb-4a1a-b55e-5cc5e57cab60')\"\n",
              "            title=\"Suggest charts\"\n",
              "            style=\"display:none;\">\n",
              "\n",
              "<svg xmlns=\"http://www.w3.org/2000/svg\" height=\"24px\"viewBox=\"0 0 24 24\"\n",
              "     width=\"24px\">\n",
              "    <g>\n",
              "        <path d=\"M19 3H5c-1.1 0-2 .9-2 2v14c0 1.1.9 2 2 2h14c1.1 0 2-.9 2-2V5c0-1.1-.9-2-2-2zM9 17H7v-7h2v7zm4 0h-2V7h2v10zm4 0h-2v-4h2v4z\"/>\n",
              "    </g>\n",
              "</svg>\n",
              "  </button>\n",
              "\n",
              "<style>\n",
              "  .colab-df-quickchart {\n",
              "      --bg-color: #E8F0FE;\n",
              "      --fill-color: #1967D2;\n",
              "      --hover-bg-color: #E2EBFA;\n",
              "      --hover-fill-color: #174EA6;\n",
              "      --disabled-fill-color: #AAA;\n",
              "      --disabled-bg-color: #DDD;\n",
              "  }\n",
              "\n",
              "  [theme=dark] .colab-df-quickchart {\n",
              "      --bg-color: #3B4455;\n",
              "      --fill-color: #D2E3FC;\n",
              "      --hover-bg-color: #434B5C;\n",
              "      --hover-fill-color: #FFFFFF;\n",
              "      --disabled-bg-color: #3B4455;\n",
              "      --disabled-fill-color: #666;\n",
              "  }\n",
              "\n",
              "  .colab-df-quickchart {\n",
              "    background-color: var(--bg-color);\n",
              "    border: none;\n",
              "    border-radius: 50%;\n",
              "    cursor: pointer;\n",
              "    display: none;\n",
              "    fill: var(--fill-color);\n",
              "    height: 32px;\n",
              "    padding: 0;\n",
              "    width: 32px;\n",
              "  }\n",
              "\n",
              "  .colab-df-quickchart:hover {\n",
              "    background-color: var(--hover-bg-color);\n",
              "    box-shadow: 0 1px 2px rgba(60, 64, 67, 0.3), 0 1px 3px 1px rgba(60, 64, 67, 0.15);\n",
              "    fill: var(--button-hover-fill-color);\n",
              "  }\n",
              "\n",
              "  .colab-df-quickchart-complete:disabled,\n",
              "  .colab-df-quickchart-complete:disabled:hover {\n",
              "    background-color: var(--disabled-bg-color);\n",
              "    fill: var(--disabled-fill-color);\n",
              "    box-shadow: none;\n",
              "  }\n",
              "\n",
              "  .colab-df-spinner {\n",
              "    border: 2px solid var(--fill-color);\n",
              "    border-color: transparent;\n",
              "    border-bottom-color: var(--fill-color);\n",
              "    animation:\n",
              "      spin 1s steps(1) infinite;\n",
              "  }\n",
              "\n",
              "  @keyframes spin {\n",
              "    0% {\n",
              "      border-color: transparent;\n",
              "      border-bottom-color: var(--fill-color);\n",
              "      border-left-color: var(--fill-color);\n",
              "    }\n",
              "    20% {\n",
              "      border-color: transparent;\n",
              "      border-left-color: var(--fill-color);\n",
              "      border-top-color: var(--fill-color);\n",
              "    }\n",
              "    30% {\n",
              "      border-color: transparent;\n",
              "      border-left-color: var(--fill-color);\n",
              "      border-top-color: var(--fill-color);\n",
              "      border-right-color: var(--fill-color);\n",
              "    }\n",
              "    40% {\n",
              "      border-color: transparent;\n",
              "      border-right-color: var(--fill-color);\n",
              "      border-top-color: var(--fill-color);\n",
              "    }\n",
              "    60% {\n",
              "      border-color: transparent;\n",
              "      border-right-color: var(--fill-color);\n",
              "    }\n",
              "    80% {\n",
              "      border-color: transparent;\n",
              "      border-right-color: var(--fill-color);\n",
              "      border-bottom-color: var(--fill-color);\n",
              "    }\n",
              "    90% {\n",
              "      border-color: transparent;\n",
              "      border-bottom-color: var(--fill-color);\n",
              "    }\n",
              "  }\n",
              "</style>\n",
              "\n",
              "  <script>\n",
              "    async function quickchart(key) {\n",
              "      const quickchartButtonEl =\n",
              "        document.querySelector('#' + key + ' button');\n",
              "      quickchartButtonEl.disabled = true;  // To prevent multiple clicks.\n",
              "      quickchartButtonEl.classList.add('colab-df-spinner');\n",
              "      try {\n",
              "        const charts = await google.colab.kernel.invokeFunction(\n",
              "            'suggestCharts', [key], {});\n",
              "      } catch (error) {\n",
              "        console.error('Error during call to suggestCharts:', error);\n",
              "      }\n",
              "      quickchartButtonEl.classList.remove('colab-df-spinner');\n",
              "      quickchartButtonEl.classList.add('colab-df-quickchart-complete');\n",
              "    }\n",
              "    (() => {\n",
              "      let quickchartButtonEl =\n",
              "        document.querySelector('#df-f1fdb4d6-e7fb-4a1a-b55e-5cc5e57cab60 button');\n",
              "      quickchartButtonEl.style.display =\n",
              "        google.colab.kernel.accessAllowed ? 'block' : 'none';\n",
              "    })();\n",
              "  </script>\n",
              "</div>\n",
              "    </div>\n",
              "  </div>\n"
            ]
          },
          "metadata": {},
          "execution_count": 198
        }
      ]
    },
    {
      "cell_type": "markdown",
      "source": [
        "In the market of real estate, the provided dataset becomes a treasure of information, offering a nuanced perspective on the housing market. Comprising 21 columns, each representing a distinct house variable. From fundamental aspects like the number of bedrooms and bathrooms to more intricate factors such as waterfront views and overall condition, these attributes collectively contribute to a comprehensive understanding of the real estate landscape.\n",
        "\n",
        "Delving into the specifics, the dataset includes essential variables:\n",
        "\n",
        "\n",
        "1. id: A unique numeric identifier assigned to each house being sold.\n",
        "2. date: The date on which the house was sold.\n",
        "3. price: The target variable, representing the price of the house (the variable that is to be predicted).\n",
        "4. bedrooms: The number of bedrooms in the house.\n",
        "5. bathrooms: The number of bathrooms in the house.\n",
        "6. sqft_living: The measurement of the house in square feet.\n",
        "7. sqft_lot: The measurement of the lot in square feet.\n",
        "8. floors: The total number of floors (levels) in the house.\n",
        "9. waterfront: A binary feature indicating whether the house has a waterfront.\n",
        "10. view (0 means no, 1 means yes). A binary feature indicating whether the house has been viewed (0 means no, 1 means yes).\n",
        "11. condition: The overall condition of the house on a scale of 1 to 5.\n",
        "12. grade: The overall grade given to the housing unit based on the King County grading system on a scale of 1 to 11.\n",
        "13. sqft_above: The square footage of the house excluding the basement.\n",
        "14. sqft_basement: The square footage of the basement of the house.\n",
        "15. yr_built: The year in which the house was built.\n",
        "16. yr_renovated: The year in which the house was renovated.\n",
        "17. zipcode: The zipcode of the location of the house.\n",
        "18. lat: The latitude of the location of the house.\n",
        "19. long: The longitude of the location of the house.\n",
        "20. sqft_living15: The living room area in 2015 (implying some renovations).\n",
        "21. sqft_lot15: The lot size area in 2015 (implying some renovations).\n",
        "\n",
        "\n",
        "As we embark on the journey of data exploration, these variables stand as the pillars supporting the extraction of meaningful insights, guiding us toward a predictive analytics model that can unravel the mysteries of housing prices. Join us in the exploration of this dataset, where each variable tells a unique story, and patterns emerge as key indicators in deciphering the dynamics of the housing market.\n",
        "\n",
        "\n",
        "\n",
        "\n",
        "\n",
        "\n"
      ],
      "metadata": {
        "id": "-xIruHnsuw_P"
      }
    },
    {
      "cell_type": "markdown",
      "source": [
        "# A2. SUMMARY OF HOUSES DATA\n",
        "Lets explore details of the dataset by providing a summary of the dataset variables , including descriptive statistics and data visualizations such as histograms and scatterplots to gain insight into the data."
      ],
      "metadata": {
        "id": "bIB87MriuYa3"
      }
    },
    {
      "cell_type": "code",
      "source": [
        "# We quickly assess the structure of our DataFrame, identify potential data type issues, and checking for missing values.\n",
        "Df.info()\n",
        "missing_variables = Df.isnull().sum()\n",
        "missing_variables"
      ],
      "metadata": {
        "colab": {
          "base_uri": "https://localhost:8080/"
        },
        "id": "PJvVm47-ue-t",
        "outputId": "eeb2e7b5-e338-4507-d98e-f63c64a862d5"
      },
      "execution_count": null,
      "outputs": [
        {
          "output_type": "stream",
          "name": "stdout",
          "text": [
            "<class 'pandas.core.frame.DataFrame'>\n",
            "RangeIndex: 21613 entries, 0 to 21612\n",
            "Data columns (total 21 columns):\n",
            " #   Column         Non-Null Count  Dtype  \n",
            "---  ------         --------------  -----  \n",
            " 0   id             21613 non-null  int64  \n",
            " 1   date           21613 non-null  object \n",
            " 2   price          21613 non-null  float64\n",
            " 3   bedrooms       21613 non-null  int64  \n",
            " 4   bathrooms      21613 non-null  float64\n",
            " 5   sqft_living    21613 non-null  int64  \n",
            " 6   sqft_lot       21613 non-null  int64  \n",
            " 7   floors         21613 non-null  float64\n",
            " 8   waterfront     21613 non-null  int64  \n",
            " 9   view           21613 non-null  int64  \n",
            " 10  condition      21613 non-null  int64  \n",
            " 11  grade          21613 non-null  int64  \n",
            " 12  sqft_above     21613 non-null  int64  \n",
            " 13  sqft_basement  21613 non-null  int64  \n",
            " 14  yr_built       21613 non-null  int64  \n",
            " 15  yr_renovated   21613 non-null  int64  \n",
            " 16  zipcode        21613 non-null  int64  \n",
            " 17  lat            21613 non-null  float64\n",
            " 18  long           21613 non-null  float64\n",
            " 19  sqft_living15  21613 non-null  int64  \n",
            " 20  sqft_lot15     21613 non-null  int64  \n",
            "dtypes: float64(5), int64(15), object(1)\n",
            "memory usage: 3.5+ MB\n"
          ]
        },
        {
          "output_type": "execute_result",
          "data": {
            "text/plain": [
              "id               0\n",
              "date             0\n",
              "price            0\n",
              "bedrooms         0\n",
              "bathrooms        0\n",
              "sqft_living      0\n",
              "sqft_lot         0\n",
              "floors           0\n",
              "waterfront       0\n",
              "view             0\n",
              "condition        0\n",
              "grade            0\n",
              "sqft_above       0\n",
              "sqft_basement    0\n",
              "yr_built         0\n",
              "yr_renovated     0\n",
              "zipcode          0\n",
              "lat              0\n",
              "long             0\n",
              "sqft_living15    0\n",
              "sqft_lot15       0\n",
              "dtype: int64"
            ]
          },
          "metadata": {},
          "execution_count": 199
        }
      ]
    },
    {
      "cell_type": "markdown",
      "source": [
        "The DataFrame appears to be clean with no missing values.\n",
        "\n",
        "It contains a mix of numerical (Float64: 5 Columns (price, bathrooms, floors, lat, long) and Int64: 15 Columns:(e.g., id, bedrooms, sqft_living, yr_built) and one categorical (object) data types. Object Columns: 1 (date).\n",
        "\n",
        "The data types seem appropriate for the columns, but further exploration may be needed (e.g., converting date to a datetime type). The dataset represents information about real estate properties with various features such as price, number of bedrooms and bathrooms, square footage, location, etc."
      ],
      "metadata": {
        "id": "f90gV03NxlRl"
      }
    },
    {
      "cell_type": "markdown",
      "source": [
        "***Lets look into Descriptive Statistics***"
      ],
      "metadata": {
        "id": "r5dwrBFx0Edf"
      }
    },
    {
      "cell_type": "code",
      "source": [
        "# We calculate some basic statistics of the variables in the dataset.\n",
        "\n",
        "Descriptive_statistics = Df.describe().round(3)\n",
        "Descriptive_statistics"
      ],
      "metadata": {
        "colab": {
          "base_uri": "https://localhost:8080/",
          "height": 321
        },
        "id": "MwGNEumD5M9T",
        "outputId": "0bcc4c86-4709-430e-eb58-bd3595e505ed"
      },
      "execution_count": null,
      "outputs": [
        {
          "output_type": "execute_result",
          "data": {
            "text/plain": [
              "                 id        price   bedrooms  bathrooms  sqft_living  \\\n",
              "count  2.161300e+04    21613.000  21613.000  21613.000    21613.000   \n",
              "mean   4.580302e+09   540088.142      3.371      2.115     2079.900   \n",
              "std    2.876566e+09   367127.196      0.930      0.770      918.441   \n",
              "min    1.000102e+06    75000.000      0.000      0.000      290.000   \n",
              "25%    2.123049e+09   321950.000      3.000      1.750     1427.000   \n",
              "50%    3.904930e+09   450000.000      3.000      2.250     1910.000   \n",
              "75%    7.308900e+09   645000.000      4.000      2.500     2550.000   \n",
              "max    9.900000e+09  7700000.000     33.000      8.000    13540.000   \n",
              "\n",
              "          sqft_lot     floors  waterfront       view  condition      grade  \\\n",
              "count    21613.000  21613.000   21613.000  21613.000  21613.000  21613.000   \n",
              "mean     15106.968      1.494       0.008      0.234      3.409      7.657   \n",
              "std      41420.512      0.540       0.087      0.766      0.651      1.175   \n",
              "min        520.000      1.000       0.000      0.000      1.000      1.000   \n",
              "25%       5040.000      1.000       0.000      0.000      3.000      7.000   \n",
              "50%       7618.000      1.500       0.000      0.000      3.000      7.000   \n",
              "75%      10688.000      2.000       0.000      0.000      4.000      8.000   \n",
              "max    1651359.000      3.500       1.000      4.000      5.000     13.000   \n",
              "\n",
              "       sqft_above  sqft_basement   yr_built  yr_renovated    zipcode  \\\n",
              "count   21613.000      21613.000  21613.000     21613.000  21613.000   \n",
              "mean     1788.391        291.509   1971.005        84.402  98077.940   \n",
              "std       828.091        442.575     29.373       401.679     53.505   \n",
              "min       290.000          0.000   1900.000         0.000  98001.000   \n",
              "25%      1190.000          0.000   1951.000         0.000  98033.000   \n",
              "50%      1560.000          0.000   1975.000         0.000  98065.000   \n",
              "75%      2210.000        560.000   1997.000         0.000  98118.000   \n",
              "max      9410.000       4820.000   2015.000      2015.000  98199.000   \n",
              "\n",
              "             lat       long  sqft_living15  sqft_lot15  \n",
              "count  21613.000  21613.000      21613.000   21613.000  \n",
              "mean      47.560   -122.214       1986.552   12768.456  \n",
              "std        0.139      0.141        685.391   27304.180  \n",
              "min       47.156   -122.519        399.000     651.000  \n",
              "25%       47.471   -122.328       1490.000    5100.000  \n",
              "50%       47.572   -122.230       1840.000    7620.000  \n",
              "75%       47.678   -122.125       2360.000   10083.000  \n",
              "max       47.778   -121.315       6210.000  871200.000  "
            ],
            "text/html": [
              "\n",
              "  <div id=\"df-fc7154f9-413f-4ce5-b92f-81ff360c03eb\" class=\"colab-df-container\">\n",
              "    <div>\n",
              "<style scoped>\n",
              "    .dataframe tbody tr th:only-of-type {\n",
              "        vertical-align: middle;\n",
              "    }\n",
              "\n",
              "    .dataframe tbody tr th {\n",
              "        vertical-align: top;\n",
              "    }\n",
              "\n",
              "    .dataframe thead th {\n",
              "        text-align: right;\n",
              "    }\n",
              "</style>\n",
              "<table border=\"1\" class=\"dataframe\">\n",
              "  <thead>\n",
              "    <tr style=\"text-align: right;\">\n",
              "      <th></th>\n",
              "      <th>id</th>\n",
              "      <th>price</th>\n",
              "      <th>bedrooms</th>\n",
              "      <th>bathrooms</th>\n",
              "      <th>sqft_living</th>\n",
              "      <th>sqft_lot</th>\n",
              "      <th>floors</th>\n",
              "      <th>waterfront</th>\n",
              "      <th>view</th>\n",
              "      <th>condition</th>\n",
              "      <th>grade</th>\n",
              "      <th>sqft_above</th>\n",
              "      <th>sqft_basement</th>\n",
              "      <th>yr_built</th>\n",
              "      <th>yr_renovated</th>\n",
              "      <th>zipcode</th>\n",
              "      <th>lat</th>\n",
              "      <th>long</th>\n",
              "      <th>sqft_living15</th>\n",
              "      <th>sqft_lot15</th>\n",
              "    </tr>\n",
              "  </thead>\n",
              "  <tbody>\n",
              "    <tr>\n",
              "      <th>count</th>\n",
              "      <td>2.161300e+04</td>\n",
              "      <td>21613.000</td>\n",
              "      <td>21613.000</td>\n",
              "      <td>21613.000</td>\n",
              "      <td>21613.000</td>\n",
              "      <td>21613.000</td>\n",
              "      <td>21613.000</td>\n",
              "      <td>21613.000</td>\n",
              "      <td>21613.000</td>\n",
              "      <td>21613.000</td>\n",
              "      <td>21613.000</td>\n",
              "      <td>21613.000</td>\n",
              "      <td>21613.000</td>\n",
              "      <td>21613.000</td>\n",
              "      <td>21613.000</td>\n",
              "      <td>21613.000</td>\n",
              "      <td>21613.000</td>\n",
              "      <td>21613.000</td>\n",
              "      <td>21613.000</td>\n",
              "      <td>21613.000</td>\n",
              "    </tr>\n",
              "    <tr>\n",
              "      <th>mean</th>\n",
              "      <td>4.580302e+09</td>\n",
              "      <td>540088.142</td>\n",
              "      <td>3.371</td>\n",
              "      <td>2.115</td>\n",
              "      <td>2079.900</td>\n",
              "      <td>15106.968</td>\n",
              "      <td>1.494</td>\n",
              "      <td>0.008</td>\n",
              "      <td>0.234</td>\n",
              "      <td>3.409</td>\n",
              "      <td>7.657</td>\n",
              "      <td>1788.391</td>\n",
              "      <td>291.509</td>\n",
              "      <td>1971.005</td>\n",
              "      <td>84.402</td>\n",
              "      <td>98077.940</td>\n",
              "      <td>47.560</td>\n",
              "      <td>-122.214</td>\n",
              "      <td>1986.552</td>\n",
              "      <td>12768.456</td>\n",
              "    </tr>\n",
              "    <tr>\n",
              "      <th>std</th>\n",
              "      <td>2.876566e+09</td>\n",
              "      <td>367127.196</td>\n",
              "      <td>0.930</td>\n",
              "      <td>0.770</td>\n",
              "      <td>918.441</td>\n",
              "      <td>41420.512</td>\n",
              "      <td>0.540</td>\n",
              "      <td>0.087</td>\n",
              "      <td>0.766</td>\n",
              "      <td>0.651</td>\n",
              "      <td>1.175</td>\n",
              "      <td>828.091</td>\n",
              "      <td>442.575</td>\n",
              "      <td>29.373</td>\n",
              "      <td>401.679</td>\n",
              "      <td>53.505</td>\n",
              "      <td>0.139</td>\n",
              "      <td>0.141</td>\n",
              "      <td>685.391</td>\n",
              "      <td>27304.180</td>\n",
              "    </tr>\n",
              "    <tr>\n",
              "      <th>min</th>\n",
              "      <td>1.000102e+06</td>\n",
              "      <td>75000.000</td>\n",
              "      <td>0.000</td>\n",
              "      <td>0.000</td>\n",
              "      <td>290.000</td>\n",
              "      <td>520.000</td>\n",
              "      <td>1.000</td>\n",
              "      <td>0.000</td>\n",
              "      <td>0.000</td>\n",
              "      <td>1.000</td>\n",
              "      <td>1.000</td>\n",
              "      <td>290.000</td>\n",
              "      <td>0.000</td>\n",
              "      <td>1900.000</td>\n",
              "      <td>0.000</td>\n",
              "      <td>98001.000</td>\n",
              "      <td>47.156</td>\n",
              "      <td>-122.519</td>\n",
              "      <td>399.000</td>\n",
              "      <td>651.000</td>\n",
              "    </tr>\n",
              "    <tr>\n",
              "      <th>25%</th>\n",
              "      <td>2.123049e+09</td>\n",
              "      <td>321950.000</td>\n",
              "      <td>3.000</td>\n",
              "      <td>1.750</td>\n",
              "      <td>1427.000</td>\n",
              "      <td>5040.000</td>\n",
              "      <td>1.000</td>\n",
              "      <td>0.000</td>\n",
              "      <td>0.000</td>\n",
              "      <td>3.000</td>\n",
              "      <td>7.000</td>\n",
              "      <td>1190.000</td>\n",
              "      <td>0.000</td>\n",
              "      <td>1951.000</td>\n",
              "      <td>0.000</td>\n",
              "      <td>98033.000</td>\n",
              "      <td>47.471</td>\n",
              "      <td>-122.328</td>\n",
              "      <td>1490.000</td>\n",
              "      <td>5100.000</td>\n",
              "    </tr>\n",
              "    <tr>\n",
              "      <th>50%</th>\n",
              "      <td>3.904930e+09</td>\n",
              "      <td>450000.000</td>\n",
              "      <td>3.000</td>\n",
              "      <td>2.250</td>\n",
              "      <td>1910.000</td>\n",
              "      <td>7618.000</td>\n",
              "      <td>1.500</td>\n",
              "      <td>0.000</td>\n",
              "      <td>0.000</td>\n",
              "      <td>3.000</td>\n",
              "      <td>7.000</td>\n",
              "      <td>1560.000</td>\n",
              "      <td>0.000</td>\n",
              "      <td>1975.000</td>\n",
              "      <td>0.000</td>\n",
              "      <td>98065.000</td>\n",
              "      <td>47.572</td>\n",
              "      <td>-122.230</td>\n",
              "      <td>1840.000</td>\n",
              "      <td>7620.000</td>\n",
              "    </tr>\n",
              "    <tr>\n",
              "      <th>75%</th>\n",
              "      <td>7.308900e+09</td>\n",
              "      <td>645000.000</td>\n",
              "      <td>4.000</td>\n",
              "      <td>2.500</td>\n",
              "      <td>2550.000</td>\n",
              "      <td>10688.000</td>\n",
              "      <td>2.000</td>\n",
              "      <td>0.000</td>\n",
              "      <td>0.000</td>\n",
              "      <td>4.000</td>\n",
              "      <td>8.000</td>\n",
              "      <td>2210.000</td>\n",
              "      <td>560.000</td>\n",
              "      <td>1997.000</td>\n",
              "      <td>0.000</td>\n",
              "      <td>98118.000</td>\n",
              "      <td>47.678</td>\n",
              "      <td>-122.125</td>\n",
              "      <td>2360.000</td>\n",
              "      <td>10083.000</td>\n",
              "    </tr>\n",
              "    <tr>\n",
              "      <th>max</th>\n",
              "      <td>9.900000e+09</td>\n",
              "      <td>7700000.000</td>\n",
              "      <td>33.000</td>\n",
              "      <td>8.000</td>\n",
              "      <td>13540.000</td>\n",
              "      <td>1651359.000</td>\n",
              "      <td>3.500</td>\n",
              "      <td>1.000</td>\n",
              "      <td>4.000</td>\n",
              "      <td>5.000</td>\n",
              "      <td>13.000</td>\n",
              "      <td>9410.000</td>\n",
              "      <td>4820.000</td>\n",
              "      <td>2015.000</td>\n",
              "      <td>2015.000</td>\n",
              "      <td>98199.000</td>\n",
              "      <td>47.778</td>\n",
              "      <td>-121.315</td>\n",
              "      <td>6210.000</td>\n",
              "      <td>871200.000</td>\n",
              "    </tr>\n",
              "  </tbody>\n",
              "</table>\n",
              "</div>\n",
              "    <div class=\"colab-df-buttons\">\n",
              "\n",
              "  <div class=\"colab-df-container\">\n",
              "    <button class=\"colab-df-convert\" onclick=\"convertToInteractive('df-fc7154f9-413f-4ce5-b92f-81ff360c03eb')\"\n",
              "            title=\"Convert this dataframe to an interactive table.\"\n",
              "            style=\"display:none;\">\n",
              "\n",
              "  <svg xmlns=\"http://www.w3.org/2000/svg\" height=\"24px\" viewBox=\"0 -960 960 960\">\n",
              "    <path d=\"M120-120v-720h720v720H120Zm60-500h600v-160H180v160Zm220 220h160v-160H400v160Zm0 220h160v-160H400v160ZM180-400h160v-160H180v160Zm440 0h160v-160H620v160ZM180-180h160v-160H180v160Zm440 0h160v-160H620v160Z\"/>\n",
              "  </svg>\n",
              "    </button>\n",
              "\n",
              "  <style>\n",
              "    .colab-df-container {\n",
              "      display:flex;\n",
              "      gap: 12px;\n",
              "    }\n",
              "\n",
              "    .colab-df-convert {\n",
              "      background-color: #E8F0FE;\n",
              "      border: none;\n",
              "      border-radius: 50%;\n",
              "      cursor: pointer;\n",
              "      display: none;\n",
              "      fill: #1967D2;\n",
              "      height: 32px;\n",
              "      padding: 0 0 0 0;\n",
              "      width: 32px;\n",
              "    }\n",
              "\n",
              "    .colab-df-convert:hover {\n",
              "      background-color: #E2EBFA;\n",
              "      box-shadow: 0px 1px 2px rgba(60, 64, 67, 0.3), 0px 1px 3px 1px rgba(60, 64, 67, 0.15);\n",
              "      fill: #174EA6;\n",
              "    }\n",
              "\n",
              "    .colab-df-buttons div {\n",
              "      margin-bottom: 4px;\n",
              "    }\n",
              "\n",
              "    [theme=dark] .colab-df-convert {\n",
              "      background-color: #3B4455;\n",
              "      fill: #D2E3FC;\n",
              "    }\n",
              "\n",
              "    [theme=dark] .colab-df-convert:hover {\n",
              "      background-color: #434B5C;\n",
              "      box-shadow: 0px 1px 3px 1px rgba(0, 0, 0, 0.15);\n",
              "      filter: drop-shadow(0px 1px 2px rgba(0, 0, 0, 0.3));\n",
              "      fill: #FFFFFF;\n",
              "    }\n",
              "  </style>\n",
              "\n",
              "    <script>\n",
              "      const buttonEl =\n",
              "        document.querySelector('#df-fc7154f9-413f-4ce5-b92f-81ff360c03eb button.colab-df-convert');\n",
              "      buttonEl.style.display =\n",
              "        google.colab.kernel.accessAllowed ? 'block' : 'none';\n",
              "\n",
              "      async function convertToInteractive(key) {\n",
              "        const element = document.querySelector('#df-fc7154f9-413f-4ce5-b92f-81ff360c03eb');\n",
              "        const dataTable =\n",
              "          await google.colab.kernel.invokeFunction('convertToInteractive',\n",
              "                                                    [key], {});\n",
              "        if (!dataTable) return;\n",
              "\n",
              "        const docLinkHtml = 'Like what you see? Visit the ' +\n",
              "          '<a target=\"_blank\" href=https://colab.research.google.com/notebooks/data_table.ipynb>data table notebook</a>'\n",
              "          + ' to learn more about interactive tables.';\n",
              "        element.innerHTML = '';\n",
              "        dataTable['output_type'] = 'display_data';\n",
              "        await google.colab.output.renderOutput(dataTable, element);\n",
              "        const docLink = document.createElement('div');\n",
              "        docLink.innerHTML = docLinkHtml;\n",
              "        element.appendChild(docLink);\n",
              "      }\n",
              "    </script>\n",
              "  </div>\n",
              "\n",
              "\n",
              "<div id=\"df-06b44bf0-8083-447f-9419-cbcdc25ced37\">\n",
              "  <button class=\"colab-df-quickchart\" onclick=\"quickchart('df-06b44bf0-8083-447f-9419-cbcdc25ced37')\"\n",
              "            title=\"Suggest charts\"\n",
              "            style=\"display:none;\">\n",
              "\n",
              "<svg xmlns=\"http://www.w3.org/2000/svg\" height=\"24px\"viewBox=\"0 0 24 24\"\n",
              "     width=\"24px\">\n",
              "    <g>\n",
              "        <path d=\"M19 3H5c-1.1 0-2 .9-2 2v14c0 1.1.9 2 2 2h14c1.1 0 2-.9 2-2V5c0-1.1-.9-2-2-2zM9 17H7v-7h2v7zm4 0h-2V7h2v10zm4 0h-2v-4h2v4z\"/>\n",
              "    </g>\n",
              "</svg>\n",
              "  </button>\n",
              "\n",
              "<style>\n",
              "  .colab-df-quickchart {\n",
              "      --bg-color: #E8F0FE;\n",
              "      --fill-color: #1967D2;\n",
              "      --hover-bg-color: #E2EBFA;\n",
              "      --hover-fill-color: #174EA6;\n",
              "      --disabled-fill-color: #AAA;\n",
              "      --disabled-bg-color: #DDD;\n",
              "  }\n",
              "\n",
              "  [theme=dark] .colab-df-quickchart {\n",
              "      --bg-color: #3B4455;\n",
              "      --fill-color: #D2E3FC;\n",
              "      --hover-bg-color: #434B5C;\n",
              "      --hover-fill-color: #FFFFFF;\n",
              "      --disabled-bg-color: #3B4455;\n",
              "      --disabled-fill-color: #666;\n",
              "  }\n",
              "\n",
              "  .colab-df-quickchart {\n",
              "    background-color: var(--bg-color);\n",
              "    border: none;\n",
              "    border-radius: 50%;\n",
              "    cursor: pointer;\n",
              "    display: none;\n",
              "    fill: var(--fill-color);\n",
              "    height: 32px;\n",
              "    padding: 0;\n",
              "    width: 32px;\n",
              "  }\n",
              "\n",
              "  .colab-df-quickchart:hover {\n",
              "    background-color: var(--hover-bg-color);\n",
              "    box-shadow: 0 1px 2px rgba(60, 64, 67, 0.3), 0 1px 3px 1px rgba(60, 64, 67, 0.15);\n",
              "    fill: var(--button-hover-fill-color);\n",
              "  }\n",
              "\n",
              "  .colab-df-quickchart-complete:disabled,\n",
              "  .colab-df-quickchart-complete:disabled:hover {\n",
              "    background-color: var(--disabled-bg-color);\n",
              "    fill: var(--disabled-fill-color);\n",
              "    box-shadow: none;\n",
              "  }\n",
              "\n",
              "  .colab-df-spinner {\n",
              "    border: 2px solid var(--fill-color);\n",
              "    border-color: transparent;\n",
              "    border-bottom-color: var(--fill-color);\n",
              "    animation:\n",
              "      spin 1s steps(1) infinite;\n",
              "  }\n",
              "\n",
              "  @keyframes spin {\n",
              "    0% {\n",
              "      border-color: transparent;\n",
              "      border-bottom-color: var(--fill-color);\n",
              "      border-left-color: var(--fill-color);\n",
              "    }\n",
              "    20% {\n",
              "      border-color: transparent;\n",
              "      border-left-color: var(--fill-color);\n",
              "      border-top-color: var(--fill-color);\n",
              "    }\n",
              "    30% {\n",
              "      border-color: transparent;\n",
              "      border-left-color: var(--fill-color);\n",
              "      border-top-color: var(--fill-color);\n",
              "      border-right-color: var(--fill-color);\n",
              "    }\n",
              "    40% {\n",
              "      border-color: transparent;\n",
              "      border-right-color: var(--fill-color);\n",
              "      border-top-color: var(--fill-color);\n",
              "    }\n",
              "    60% {\n",
              "      border-color: transparent;\n",
              "      border-right-color: var(--fill-color);\n",
              "    }\n",
              "    80% {\n",
              "      border-color: transparent;\n",
              "      border-right-color: var(--fill-color);\n",
              "      border-bottom-color: var(--fill-color);\n",
              "    }\n",
              "    90% {\n",
              "      border-color: transparent;\n",
              "      border-bottom-color: var(--fill-color);\n",
              "    }\n",
              "  }\n",
              "</style>\n",
              "\n",
              "  <script>\n",
              "    async function quickchart(key) {\n",
              "      const quickchartButtonEl =\n",
              "        document.querySelector('#' + key + ' button');\n",
              "      quickchartButtonEl.disabled = true;  // To prevent multiple clicks.\n",
              "      quickchartButtonEl.classList.add('colab-df-spinner');\n",
              "      try {\n",
              "        const charts = await google.colab.kernel.invokeFunction(\n",
              "            'suggestCharts', [key], {});\n",
              "      } catch (error) {\n",
              "        console.error('Error during call to suggestCharts:', error);\n",
              "      }\n",
              "      quickchartButtonEl.classList.remove('colab-df-spinner');\n",
              "      quickchartButtonEl.classList.add('colab-df-quickchart-complete');\n",
              "    }\n",
              "    (() => {\n",
              "      let quickchartButtonEl =\n",
              "        document.querySelector('#df-06b44bf0-8083-447f-9419-cbcdc25ced37 button');\n",
              "      quickchartButtonEl.style.display =\n",
              "        google.colab.kernel.accessAllowed ? 'block' : 'none';\n",
              "    })();\n",
              "  </script>\n",
              "</div>\n",
              "    </div>\n",
              "  </div>\n"
            ]
          },
          "metadata": {},
          "execution_count": 200
        }
      ]
    },
    {
      "cell_type": "markdown",
      "source": [
        "The descriptive statistics for the real estate dataset provide valuable insights into key numerical columns, offering a comprehensive view of the distribution and variation in housing-related features.\n",
        "\n",
        "Mean (Average): The mean price of houses is approximately $540,088.1, indicating the central tendency of the dataset. Other numerical columns follow a similar pattern, representing average values across the dataset.\n",
        "\n",
        "Standard Deviation: The standard deviation in the \"price\" column is approximately $367,127. This measure of dispersion highlights the extent of variability in housing prices.\n",
        "\n",
        "Minimum Values: The minimum price of a house in the dataset is $75,000, indicating the lowest observed value. Other columns also have corresponding minimum values, representing the smallest observations.\n",
        "\n",
        "25th Percentile (Q1): In the \"price\" column, 25% of houses have a price below $321,950. This percentile provides insight into the lower range of housing prices.\n",
        "\n",
        "50th Percentile (Median or Q2): The median price is $450,000, indicating the middle value of the dataset. Half of the houses have a price below this value, and half have a price above.\n",
        "\n",
        "75th Percentile (Q3): For the \"price\" column, 75% of houses have a price below $645,000. This percentile offers information on the upper range of housing prices.\n",
        "\n",
        "Maximum Values: The maximum price of a house in the dataset is $7,700,000, representing the highest observed value. Other columns similarly display the largest values within their respective features.\n",
        "\n",
        "This discriptive summary report provides a clear and concise overview of the central tendency, variability, and distribution of key numerical features in the real estate dataset. It is a valuable resource for understanding the price range and distribution of housing-related characteristics.\n"
      ],
      "metadata": {
        "id": "qeHEDPwJ8mZn"
      }
    },
    {
      "cell_type": "markdown",
      "source": [
        "***Investigate the Relationship of Association With Price***"
      ],
      "metadata": {
        "id": "-4Bc9AX69lJ0"
      }
    },
    {
      "cell_type": "markdown",
      "source": [
        "We will find features with the highest correlation with the target variable 'price' in a dataset, you can use the correlation coefficient. The correlation coefficient quantifies the strength and direction of a linear relationship between these two variables. In the context of a dataset, you can compute the correlation between the target variable ('price') and each of the other features."
      ],
      "metadata": {
        "id": "UkeJs-tpDQE0"
      }
    },
    {
      "cell_type": "code",
      "source": [
        "selected_variables = ['price','bedrooms','bathrooms','sqft_living','sqft_lot','sqft_above','sqft_basement','yr_built','yr_renovated','sqft_living15','sqft_lot15']\n",
        "correlation_matrix = Df[selected_variables].corr()\n",
        "Correlation_vs_Price= correlation_matrix['price'].sort_values(ascending=True)\n",
        "Correlation_vs_Price"
      ],
      "metadata": {
        "colab": {
          "base_uri": "https://localhost:8080/"
        },
        "id": "xooPUS1IB1Ag",
        "outputId": "d579534a-40fb-4b03-a700-aa97ed903bb1"
      },
      "execution_count": null,
      "outputs": [
        {
          "output_type": "execute_result",
          "data": {
            "text/plain": [
              "yr_built         0.054012\n",
              "sqft_lot15       0.082447\n",
              "sqft_lot         0.089661\n",
              "yr_renovated     0.126434\n",
              "bedrooms         0.308350\n",
              "sqft_basement    0.323816\n",
              "bathrooms        0.525138\n",
              "sqft_living15    0.585379\n",
              "sqft_above       0.605567\n",
              "sqft_living      0.702035\n",
              "price            1.000000\n",
              "Name: price, dtype: float64"
            ]
          },
          "metadata": {},
          "execution_count": 201
        }
      ]
    },
    {
      "cell_type": "markdown",
      "source": [
        "* sqft_living: The correlation coefficient is approximately 0.702. This suggests a strong positive linear relationship between the living area in square feet ('sqft_living') and the price. As the living area increases, the price tends to increase as well.\n",
        "* sqft_above: With a correlation coefficient of around 0.606, there is a strong positive linear relationship between the area above ground ('sqft_above') and the price.\n",
        "* sqft_living15: This feature represents the living area of the nearest 15 neighbors. The correlation coefficient is approximately 0.585, indicating a strong positive linear relationship between this variable and the price.\n",
        "bathrooms: The correlation coefficient is about 0.525, suggesting a moderately strong positive linear relationship between the number of bathrooms ('bathrooms') and the price.\n",
        "* sqft_basement: The correlation coefficient is around 0.324, indicating a positive linear relationship between the basement area ('sqft_basement') and the price.\n",
        "* bedrooms: The correlation coefficient is approximately 0.308, indicating a moderate positive linear relationship between the number of bedrooms ('bedrooms') and the price.\n",
        "* yr_renovated: This feature represents the year of renovation. The correlation coefficient is about 0.126, indicating a weak positive linear relationship between the year of renovation and the price.\n",
        "* sqft_lot: The correlation coefficient is around 0.090, suggesting a weak positive linear relationship between the lot area ('sqft_lot') and the price.\n",
        "sqft_lot15: This feature represents the lot area of the nearest 15 neighbors. The correlation coefficient is approximately 0.082, indicating a weak positive linear relationship between this variable and the price.\n",
        "* yr_built: The correlation coefficient is about 0.054, suggesting a very weak positive linear relationship between the year the house was built ('yr_built') and the price.\n",
        "\n",
        "In summary, this correlation analysis sheds light on the linear relationships between features and house prices in the dataset. Features with higher positive correlation coefficients are positively related to prices, but the absence of negative correlation indicates a lack of clear negative linear associations. Always exercise caution in interpreting correlation as a definitive measure of causation.\n",
        "\n",
        "It is crucial to emphasize that correlation does not imply causation. Therefore, even if a feature shows a strong positive correlation with house prices, it does not necessarily mean that changes in that feature directly cause changes in house prices. Other factors and complexities may contribute to the overall pricing dynamics.\n"
      ],
      "metadata": {
        "id": "IHjJxGmODz6I"
      }
    },
    {
      "cell_type": "markdown",
      "source": [
        "# A.2: Vizualizations For More Insights Into the Data."
      ],
      "metadata": {
        "id": "RpmBw3rMHsKl"
      }
    },
    {
      "cell_type": "markdown",
      "source": [
        "**The Relationhip Betweeen Price and the Living Area**"
      ],
      "metadata": {
        "id": "Z0E9yEjDImUx"
      }
    },
    {
      "cell_type": "markdown",
      "source": [
        "Since the correlation between the price of a house and the living area was the highest recorded, we further investigate this relationship."
      ],
      "metadata": {
        "id": "gU1X-t2SYvNi"
      }
    },
    {
      "cell_type": "code",
      "source": [
        "plt.scatter(Df['sqft_living'], Df['price'],c='green')\n",
        "plt.xlabel('SquareFt LivingArea')\n",
        "plt.ylabel('Price')\n",
        "plt.title('Linear Relationship between Price vs. Square Living')\n",
        "plt.show()"
      ],
      "metadata": {
        "colab": {
          "base_uri": "https://localhost:8080/",
          "height": 472
        },
        "id": "KrurXo0mEtxC",
        "outputId": "73886d48-fe86-42ee-f046-6ae9b932df23"
      },
      "execution_count": null,
      "outputs": [
        {
          "output_type": "display_data",
          "data": {
            "text/plain": [
              "<Figure size 640x480 with 1 Axes>"
            ],
            "image/png": "[encoded data removed]"
          },
          "metadata": {}
        }
      ]
    },
    {
      "cell_type": "markdown",
      "source": [
        "Supporting the correlation coefficient of approximately 0.702. The plot above illustrates a strong positive linear relationship between the living area in square feet ('sqft_living') and the price. The chart clearly illustrates that as the living area in squared feet increases, the price tends to increase as well.\n",
        "\n",
        "The plot also indicated some presence of some outliers in the dataset which would interprate as exceptional cases where houses with specific living area sizes deviated significantly."
      ],
      "metadata": {
        "id": "txS1lSL6M2wY"
      }
    },
    {
      "cell_type": "markdown",
      "source": [
        "**Distribution of Year Houses Were Built**"
      ],
      "metadata": {
        "id": "HFJSslxIRMqt"
      }
    },
    {
      "cell_type": "markdown",
      "source": [
        "We further conducted analysis to describe the frequency distribution of houses based on the year they were built."
      ],
      "metadata": {
        "id": "mW2ZsEB7iUNI"
      }
    },
    {
      "cell_type": "code",
      "source": [
        "#Display a histogram of the number of houses based on year the house were built.\n",
        "plt.hist(Df['yr_built'],bins=20,color='green')\n",
        "plt.xlabel('Year House was Built')\n",
        "plt.ylabel('Frequency')\n",
        "plt.title('Frequenct Distribution of Year House was Built')\n",
        "plt.show()\n"
      ],
      "metadata": {
        "colab": {
          "base_uri": "https://localhost:8080/",
          "height": 472
        },
        "id": "JbaoHheGQjOj",
        "outputId": "9faa7be6-1e0e-4abe-c99e-728bab14931a"
      },
      "execution_count": null,
      "outputs": [
        {
          "output_type": "display_data",
          "data": {
            "text/plain": [
              "<Figure size 640x480 with 1 Axes>"
            ],
            "image/png": "[encoded data removed]"
          },
          "metadata": {}
        }
      ]
    },
    {
      "cell_type": "markdown",
      "source": [
        "The histogram offers a visual representation of the frequency distribution of houses according to the years in which they were developed. The left-skewed distribution, signifying that a substantial proportion of the houses falls within the latest years of the timeline,in the 20th century.Within the broader centuries trend, specific peaks or spikes may be visible, representing periods of intensified construction activity. Analyzing these peaks could unveil insights into historical events or economic conditions that prompted these pronounced upticks."
      ],
      "metadata": {
        "id": "Q89-hkKJVoRQ"
      }
    },
    {
      "cell_type": "markdown",
      "source": [
        "**The Houses Grading Distribution Based on the County System**"
      ],
      "metadata": {
        "id": "zS4rDLZWkTPN"
      }
    },
    {
      "cell_type": "markdown",
      "source": [
        "We analyse the overall grade given to the housing unit based on the King County grading system on a scale of 1 to 11."
      ],
      "metadata": {
        "id": "c8z_Ev_cj9Zg"
      }
    },
    {
      "cell_type": "code",
      "source": [
        "#Create a histogram of grade to visualize the distribution.\n",
        "plt.hist(Df['grade'],color='blue')\n",
        "plt.xlabel('GRADE')\n",
        "plt.ylabel('Frequency')\n",
        "plt.title('King County Grading Distribution')\n",
        "plt.show()\n"
      ],
      "metadata": {
        "colab": {
          "base_uri": "https://localhost:8080/",
          "height": 472
        },
        "id": "g56q2ZCOotrh",
        "outputId": "3d91baa4-4556-4eda-cd6d-576bb2bee59b"
      },
      "execution_count": null,
      "outputs": [
        {
          "output_type": "display_data",
          "data": {
            "text/plain": [
              "<Figure size 640x480 with 1 Axes>"
            ],
            "image/png": "[encoded data removed]"
          },
          "metadata": {}
        }
      ]
    },
    {
      "cell_type": "markdown",
      "source": [
        "The chart illustrates that majority of houses have a grade between 7 and 9 which would represent the average grade, based on this information we can speculate that most houses are in significantly better conditions."
      ],
      "metadata": {
        "id": "DbcnQOlPpvmW"
      }
    },
    {
      "cell_type": "markdown",
      "source": [
        "# B.PRE-PROSSESING DATA"
      ],
      "metadata": {
        "id": "tsJwAccivLkQ"
      }
    },
    {
      "cell_type": "markdown",
      "source": [
        "#B1.We Perform any necessary pre-processing steps on the original data.\n"
      ],
      "metadata": {
        "id": "ZYGk5N8VvZg9"
      }
    },
    {
      "cell_type": "markdown",
      "source": [
        "We prepare the data for a machine learning task where you want to predict the price as y  based on other variables as xs"
      ],
      "metadata": {
        "id": "ApfvJpADGiIb"
      }
    },
    {
      "cell_type": "code",
      "source": [
        "y=Df['price']\n",
        "xs=Df.drop(['price'],axis=1)\n",
        "xs.head()\n",
        "y"
      ],
      "metadata": {
        "colab": {
          "base_uri": "https://localhost:8080/"
        },
        "id": "Lg4V_Pnjyj63",
        "outputId": "2e37edef-73bf-406e-c768-1010f2d991b2"
      },
      "execution_count": null,
      "outputs": [
        {
          "output_type": "execute_result",
          "data": {
            "text/plain": [
              "0        221900.0\n",
              "1        538000.0\n",
              "2        180000.0\n",
              "3        604000.0\n",
              "4        510000.0\n",
              "           ...   \n",
              "21608    360000.0\n",
              "21609    400000.0\n",
              "21610    402101.0\n",
              "21611    400000.0\n",
              "21612    325000.0\n",
              "Name: price, Length: 21613, dtype: float64"
            ]
          },
          "metadata": {},
          "execution_count": 205
        }
      ]
    },
    {
      "cell_type": "markdown",
      "source": [
        "These are the independent variables that we will use to make predictions on house prices. We removed the \"price\" column from the original dataset.The List named xs contains the names of specific columns from your dataset. These columns represent the features you want to include in your analysis or model. This means that xs now contains only the columns listed in the features list, and it serves as a subset of your original dataset."
      ],
      "metadata": {
        "id": "FEFnwd5DPwY3"
      }
    },
    {
      "cell_type": "markdown",
      "source": [
        "#B2. Spliting data into tranining and testing set."
      ],
      "metadata": {
        "id": "OZokHscdhTqv"
      }
    },
    {
      "cell_type": "code",
      "source": [
        "random_state = int(\"47\")\n",
        "xs_train, xs_test, y_train, y_test = train_test_split(xs, y, test_size=0.2, random_state=random_state)"
      ],
      "metadata": {
        "id": "rmLXxyP7hSg5"
      },
      "execution_count": null,
      "outputs": []
    },
    {
      "cell_type": "markdown",
      "source": [
        "We use the train_test_split function from scikit-learn to split the data into training and testing sets.The function returns four sets of data: xs_train (training features), xs_test (testing features), y_train (training labels), and y_test (testing labels). The data is split randomly, but since random_state is set, the same split will be obtained each time you run the code with the same random_state value."
      ],
      "metadata": {
        "id": "PGwpjjvsvkqg"
      }
    },
    {
      "cell_type": "markdown",
      "source": [
        "#**C. Model Building**"
      ],
      "metadata": {
        "id": "RT4fbutXv7p-"
      }
    },
    {
      "cell_type": "markdown",
      "source": [
        "#C1. Model 1: Simple Regression\n",
        "We further investigate the linaer relationship between the price and one input feature (Sqft_living) which recorded the highest correlation relationship using the simple regression"
      ],
      "metadata": {
        "id": "CsOpwPLUkF1o"
      }
    },
    {
      "cell_type": "code",
      "source": [
        "#Define the independent variable as X_1.\n",
        "x_1 = xs['sqft_living'].values.reshape(-1, 1)\n",
        "\n",
        "# Split the training data into training and validation sets using k-fold cross-validation\n",
        "\n",
        "kf = KFold(n_splits=5, shuffle=True, random_state=random_state)\n",
        "\n",
        "# Model1 was implemented as the simple regression model\n",
        "\n",
        "Model1= LinearRegression()\n",
        "\n",
        "# Evaluate the model using k-fold cross-validation\n",
        "\n",
        "Model1_scores = cross_val_score(Model1, x_1, y, scoring='neg_mean_squared_error', cv=kf)\n",
        "mean_Model1_mse = np.mean(-Model1_scores)\n",
        "\n",
        "Model1.fit(x_1, y)\n",
        "Model1_intercept, Model1_coefficient = Model1.intercept_,Model1.coef_[0]\n",
        "\n",
        "# Print the model and the mean squared error.\n",
        "\n",
        "print(\"C1. Model 1: Simple Regression\")\n",
        "print(f\"Mean Squared Error (k-fold cross-validation): {mean_Model1_mse}\")\n",
        "print(f\"Optimized Model: y = {Model1_intercept} + {Model1_coefficient:.2f} * sqft_living\\n\")\n"
      ],
      "metadata": {
        "colab": {
          "base_uri": "https://localhost:8080/"
        },
        "id": "PNhbgDtGwf4a",
        "outputId": "514d7072-92f5-41ff-efa0-b19c48e368a5"
      },
      "execution_count": null,
      "outputs": [
        {
          "output_type": "stream",
          "name": "stdout",
          "text": [
            "C1. Model 1: Simple Regression\n",
            "Mean Squared Error (k-fold cross-validation): 68422325026.13397\n",
            "Optimized Model: y = -43580.74309447396 + 280.62 * sqft_living\n",
            "\n"
          ]
        }
      ]
    },
    {
      "cell_type": "markdown",
      "source": [
        "#**C2. Model 2: Polynomial Regression**"
      ],
      "metadata": {
        "id": "KTEuiaUZ8dvI"
      }
    },
    {
      "cell_type": "markdown",
      "source": [
        "The analysis will further investigate the polynomial relationship between the price and the living area size."
      ],
      "metadata": {
        "id": "KPVbvvH8ym3z"
      }
    },
    {
      "cell_type": "code",
      "source": [
        "# Visualize the relationship between price and the chosen input\n",
        "plt.scatter(x_1, y, color='green')\n",
        "plt.title('Relationship between sqft_living and Price')\n",
        "plt.xlabel('sqft_living')\n",
        "plt.ylabel('Price')\n",
        "plt.show()"
      ],
      "metadata": {
        "colab": {
          "base_uri": "https://localhost:8080/",
          "height": 472
        },
        "id": "grz4ZOhm8kGE",
        "outputId": "3061aba3-5412-493f-9810-cd1dd10962d9"
      },
      "execution_count": null,
      "outputs": [
        {
          "output_type": "display_data",
          "data": {
            "text/plain": [
              "<Figure size 640x480 with 1 Axes>"
            ],
            "image/png": "[encoded data removed]"
          },
          "metadata": {}
        }
      ]
    },
    {
      "cell_type": "markdown",
      "source": [
        "**Determine and justify a set of features for polynomial regression**"
      ],
      "metadata": {
        "id": "4Vl_QCwW_5ya"
      }
    },
    {
      "cell_type": "code",
      "source": [
        "\n",
        "# Create polynomial features to a degree of 2 using the independent variale x_1.\n",
        "\n",
        "poly = PolynomialFeatures(degree=2, include_bias=False)\n",
        "x_poly = poly.fit_transform(x_1)\n",
        "\n",
        "# Split the data into training and test sets\n",
        "\n",
        "x_poly_train, x_poly_test, y_train, y_test = train_test_split(x_poly, y, test_size=0.2, random_state=random_state)\n",
        "\n",
        "# Train a polynomial regression model\n",
        "poly_model2 = LinearRegression()\n",
        "poly_model2.fit(x_poly_train, y_train)\n",
        "\n",
        "# Make predictions on the test set\n",
        "y_pred = poly_model2.predict(x_poly_test)\n",
        "\n",
        "# Evaluate the model\n",
        "mean_Model2_mse = MSE(y_test, y_pred)\n",
        "print(f\"Mean Squared Error on Model2: {mean_Model2_mse}\")\n",
        "# Visualization\n",
        "plt.scatter(x_1, y, color='blue', label='Actual Data')\n",
        "plt.scatter(x_poly_test[:, 0], y_pred, color='red', label='Predicted Data')\n",
        "plt.title(f'Relationship between Sqft Living and Price (Polynomial Regression)')\n",
        "plt.xlabel('Sqft_Living')\n",
        "plt.ylabel('Price')\n",
        "plt.legend()\n",
        "plt.show()"
      ],
      "metadata": {
        "colab": {
          "base_uri": "https://localhost:8080/",
          "height": 504
        },
        "id": "QibqQovRAOTx",
        "outputId": "fb10569f-eb3f-4b9d-d7ca-3caae8a4c65b"
      },
      "execution_count": null,
      "outputs": [
        {
          "output_type": "stream",
          "name": "stdout",
          "text": [
            "Mean Squared Error on Model2: 75807750114.81781\n"
          ]
        },
        {
          "output_type": "display_data",
          "data": {
            "text/plain": [
              "<Figure size 640x480 with 1 Axes>"
            ],
            "image/png": "[encoded data removed]"
          },
          "metadata": {}
        }
      ]
    },
    {
      "cell_type": "markdown",
      "source": [
        "We will use a quadratic feature (1, x, x^2) since we suspect a parabolic relationship between the input variable and the price. The Polynomial features generate polynomial features up to the second degree (1, x, x^2) based on the chosen feature (sqft_living as x_1). It then fits a linear regression model to the transformed features and evaluates the model's performance. We visualize the scatter plot, and investigate if there is a curvilinear pattern, we try adding a quadratic term (x^2) and investigate whether it might capture the non-linear relationship better.\n",
        "\n"
      ],
      "metadata": {
        "id": "CM6zGRoacegd"
      }
    },
    {
      "cell_type": "markdown",
      "source": [
        "# **C3. Model 3: Multiple Regression**"
      ],
      "metadata": {
        "id": "0MEmpeKNeFdh"
      }
    },
    {
      "cell_type": "markdown",
      "source": [
        "We defined the features for the model as **x= features representingthe independent variables['bedrooms','bathrooms','sqft_living','sqft_lot','floors','yr_built','yr_renovated','sqft_living15','sqft_lot15','sqft_basement','sqft_above','grade','lat','long']**\n"
      ],
      "metadata": {
        "id": "3MXDnvk3lMLl"
      }
    },
    {
      "cell_type": "code",
      "source": [
        "features=['bedrooms','bathrooms','sqft_living','sqft_lot','floors','yr_built','yr_renovated','sqft_living15','sqft_lot15','sqft_basement','sqft_above','grade','lat','long']\n",
        "x=Df[features]"
      ],
      "metadata": {
        "id": "jeU1ZfgjGtUG"
      },
      "execution_count": null,
      "outputs": []
    },
    {
      "cell_type": "code",
      "source": [
        "#Split data into training and testing sets\n",
        "x_train, x_test, y_train, y_test = train_test_split(x, y, test_size=0.2, random_state=random_state)"
      ],
      "metadata": {
        "id": "etWP9q8XeMBv"
      },
      "execution_count": null,
      "outputs": []
    },
    {
      "cell_type": "code",
      "source": [
        " # we will split the data into training and validation set\n",
        " x_train_train, x_train_validation, y_train_train, y_train_validation = train_test_split(x_train, y_train, test_size=0.2, random_state=random_state)"
      ],
      "metadata": {
        "id": "NcSS6hhXroGp"
      },
      "execution_count": null,
      "outputs": []
    },
    {
      "cell_type": "code",
      "source": [
        "# Create a Linear Regression model\n",
        "Model3 = LinearRegression()"
      ],
      "metadata": {
        "id": "Ax0JDDSstzQ1"
      },
      "execution_count": null,
      "outputs": []
    },
    {
      "cell_type": "code",
      "source": [
        "# Initialize variables to keep track of the selected features and the best MSE\n",
        "selected_features = []\n",
        "best_mse = []\n",
        "best_mse_train = []"
      ],
      "metadata": {
        "id": "ZdHn9mvMuVCE"
      },
      "execution_count": null,
      "outputs": []
    },
    {
      "cell_type": "code",
      "source": [
        "# Perform forward feature selection\n",
        "for _ in range(len(features)):\n",
        "    # Variables to keep track of the best feature to add and its corresponding MSE\n",
        "    best_feature_to_add = None\n",
        "    best_feature_mse = float(\"inf\")\n",
        "\n",
        "    for feature in features:\n",
        "        if feature not in selected_features:\n",
        "            # Copy the current selected features and add the candidate feature\n",
        "            features_to_evaluate = selected_features + [feature]\n",
        "\n",
        "            # Train a model with the selected features\n",
        "            Model3.fit(x_train_train[features_to_evaluate], y_train_train)\n",
        "\n",
        "\n",
        "            # Make predictions on the validation data\n",
        "            y_validation_pred = Model3.predict(x_train_validation[features_to_evaluate])\n",
        "\n",
        "            # Calculate Mean Squared Error\n",
        "            mse = MSE(y_train_validation, y_validation_pred)\n",
        "\n",
        "            #-----------------------------------------------------------------------------\n",
        "            #  we don't need this part of the code, I've added it for visualisation\n",
        "            #------------------------------------------------------------------------------\n",
        "            # Make predictions on the training   data\n",
        "            y_train_pred = Model3.predict(x_train_train[features_to_evaluate])\n",
        "            mse_train = MSE(y_train_train, y_train_pred)\n",
        "            #------------------------------------------------------------------------------\n",
        "\n",
        "            # If this set of features results in a lower MSE, update the best feature and MSE\n",
        "            if mse < best_feature_mse:\n",
        "                best_feature_to_add = feature\n",
        "                best_feature_mse = mse\n",
        "                best_feature_mse_train = mse_train # for visualisation\n",
        "\n",
        "\n",
        "    # If adding the best feature improves MSE, add it to the selected features\n",
        "    if best_feature_to_add is not None:\n",
        "        selected_features.append(best_feature_to_add)\n",
        "        best_mse.append(best_feature_mse)\n",
        "        best_mse_train.append(best_feature_mse_train)\n",
        "\n",
        "    else:\n",
        "        # If no feature improves MSE, stop the selection process\n",
        "        break"
      ],
      "metadata": {
        "id": "_I-gHk_Gua0P"
      },
      "execution_count": null,
      "outputs": []
    },
    {
      "cell_type": "code",
      "source": [
        "# At the end of the loop, selected_features will contain the best subset of features\n",
        "print(\"Selected Features:\", selected_features)"
      ],
      "metadata": {
        "colab": {
          "base_uri": "https://localhost:8080/"
        },
        "id": "Bgr4ldu9vdtB",
        "outputId": "a1432909-bdf6-4f06-bfce-da490eb943c1"
      },
      "execution_count": null,
      "outputs": [
        {
          "output_type": "stream",
          "name": "stdout",
          "text": [
            "Selected Features: ['sqft_living', 'lat', 'grade', 'yr_built', 'bedrooms', 'bathrooms', 'long', 'sqft_living15', 'yr_renovated', 'sqft_lot15', 'floors', 'sqft_basement', 'sqft_above', 'sqft_lot']\n"
          ]
        }
      ]
    },
    {
      "cell_type": "code",
      "source": [
        "# Create lists to store the iteration number and corresponding MSE values\n",
        "iteration_numbers = range(len(selected_features))\n",
        "\n",
        "# Plot both validation and training MSE\n",
        "plt.plot(iteration_numbers, best_mse, label='Validation MSE', marker='o')\n",
        "plt.plot(iteration_numbers, best_mse_train, label='Training MSE', marker='x')\n",
        "\n",
        "plt.title('Forward Feature Selection')\n",
        "plt.xlabel('Features Added')\n",
        "plt.ylabel('Mean Squared Error')\n",
        "plt.legend()\n",
        "plt.grid(True)\n",
        "plt.show()"
      ],
      "metadata": {
        "colab": {
          "base_uri": "https://localhost:8080/",
          "height": 472
        },
        "id": "0cbZimySv3eb",
        "outputId": "7f76af67-4e0c-4e26-cf33-4e38c4577151"
      },
      "execution_count": null,
      "outputs": [
        {
          "output_type": "display_data",
          "data": {
            "text/plain": [
              "<Figure size 640x480 with 1 Axes>"
            ],
            "image/png": "[encoded data removed]"
          },
          "metadata": {}
        }
      ]
    },
    {
      "cell_type": "code",
      "source": [
        "Model3 = LinearRegression()\n",
        "# We re-fit the model to the data we have (train and validation).\n",
        "Model3.fit(x_train[selected_features], y_train)\n",
        "y_pred3 = Model3.predict(x_test[selected_features])\n",
        "mean_Model3_mse = MSE(y_test, y_pred3)\n",
        "mean_Model3_mse"
      ],
      "metadata": {
        "colab": {
          "base_uri": "https://localhost:8080/"
        },
        "id": "teOqOEyhyIGm",
        "outputId": "f459a40c-50c4-4e10-84a5-8a56eeb2b066"
      },
      "execution_count": null,
      "outputs": [
        {
          "output_type": "execute_result",
          "data": {
            "text/plain": [
              "46119160003.015564"
            ]
          },
          "metadata": {},
          "execution_count": 218
        }
      ]
    },
    {
      "cell_type": "markdown",
      "source": [
        "# **C4. Model 4: Ridge Regression**\n"
      ],
      "metadata": {
        "id": "Vf7bTKiP0Vk0"
      }
    },
    {
      "cell_type": "code",
      "source": [
        "x_train, x_test, y_train, y_test = train_test_split(x, y, test_size=0.2, random_state=random_state)"
      ],
      "metadata": {
        "id": "LbifCtWp3dNl"
      },
      "execution_count": null,
      "outputs": []
    },
    {
      "cell_type": "code",
      "source": [
        "scaler = StandardScaler(with_mean=False)\n",
        "x_train_scaled = scaler.fit_transform(x_train)\n",
        "x_test_scaled = scaler.transform(x_test)"
      ],
      "metadata": {
        "id": "NC4hPRJo3mpo"
      },
      "execution_count": null,
      "outputs": []
    },
    {
      "cell_type": "code",
      "source": [
        "x_train_train_s, x_train_validation_s, y_train_train, y_train_validation = train_test_split(x_train_scaled, y_train, test_size=0.2, random_state=random_state)"
      ],
      "metadata": {
        "id": "ypldcmef3tzk"
      },
      "execution_count": null,
      "outputs": []
    },
    {
      "cell_type": "markdown",
      "source": [
        "\n",
        "# Create a set of alphas"
      ],
      "metadata": {
        "id": "gc2IWJhP4Dyl"
      }
    },
    {
      "cell_type": "code",
      "source": [
        "  # A range of alpha values\n",
        "alphas_1 = np.logspace(0, 0.1, 10)\n",
        "alphas_2 = np.linspace(0.25, 5, 20)\n",
        "alphas_3 = np.linspace(6, 100, 20)\n",
        "alphas_4 = np.logspace(2,5, 100)\n",
        "alphas = np.concatenate((alphas_1,alphas_2,alphas_3,alphas_4), axis=0)"
      ],
      "metadata": {
        "id": "A5Izm3fW4Inf"
      },
      "execution_count": null,
      "outputs": []
    },
    {
      "cell_type": "code",
      "source": [
        "# Create the RidgeCV object\n",
        "model4 = RidgeCV(alphas=alphas, cv=5)\n",
        "\n",
        "# Fit the model\n",
        "model4.fit(x, y)\n",
        "\n",
        "# Print the best alpha value\n",
        "print(f'The best alpha value is {model4.alpha_:.4f}')"
      ],
      "metadata": {
        "colab": {
          "base_uri": "https://localhost:8080/"
        },
        "id": "g5vZ_AmdKcwE",
        "outputId": "0c19df45-7892-472f-eabb-b08b09742aba"
      },
      "execution_count": null,
      "outputs": [
        {
          "output_type": "stream",
          "name": "stdout",
          "text": [
            "The best alpha value is 0.2500\n"
          ]
        }
      ]
    },
    {
      "cell_type": "code",
      "source": [
        "# Calculate the mean squared error\n",
        "y_pred4 = model4.predict(x)\n",
        "mean_Model4_mse = MSE(y, y_pred4)\n",
        "\n",
        "# Print the mean squared error\n",
        "print(f'The mean squared error of the ridge regression is {mean_Model4_mse:.4f}')"
      ],
      "metadata": {
        "colab": {
          "base_uri": "https://localhost:8080/"
        },
        "id": "4erY8AuUMcKu",
        "outputId": "398726cd-5138-4eed-f6e9-b393bef2d58f"
      },
      "execution_count": null,
      "outputs": [
        {
          "output_type": "stream",
          "name": "stdout",
          "text": [
            "The mean squared error of the ridge regression is 46383042994.0420\n"
          ]
        }
      ]
    },
    {
      "cell_type": "markdown",
      "source": [
        "#**C5. Model 5: Your Suggested Model**\n"
      ],
      "metadata": {
        "id": "9-xgzW7jP1dt"
      }
    },
    {
      "cell_type": "markdown",
      "source": [
        "My intuition is aligned with a common understanding in real estate: the number of bedrooms is often considered a significant factor in determining the price of a house. In real estate analysis, the number of bedrooms is a key feature used to predict housing prices. More bedrooms generally imply a larger and potentially more valuable property.\n",
        "\n",
        "Developing a simple regression model with the number of bedrooms as the independent variable and the price as the dependent variable is a reasonable approach.\n"
      ],
      "metadata": {
        "id": "1wdFgK6o17K3"
      }
    },
    {
      "cell_type": "code",
      "source": [
        "#Define the input variable as the number of bedrooms defined as x_2.\n",
        "x_2 = x['bedrooms'].values.reshape(-1, 1)\n",
        "\n",
        "# Split the data using k-fold cross-validation\n",
        "kf = KFold(n_splits=5, shuffle=True, random_state=random_state)\n",
        "\n",
        "# Implement simple regression model as Model5\n",
        "Model5= LinearRegression()\n",
        "\n",
        "# Evaluate the model using k-fold cross-validation\n",
        "Model5_scores = cross_val_score(Model5, x_2, y, scoring='neg_mean_squared_error', cv=kf)\n",
        "mean_Model5_mse = np.mean(-Model5_scores)\n",
        "\n",
        "# Optimize the model using closed-form (analytical) approach\n",
        "Model5.fit(x_2, y)\n",
        "Model5_intercept, Model5_coefficient = Model5.intercept_,Model5.coef_[0]\n",
        "\n",
        "# Print results\n",
        "print(\" Model 5: Simple Regression\")\n",
        "print(f\"Mean Squared Error (k-fold cross-validation): {mean_Model5_mse}\")\n",
        "print(f\"Optimized Model: y = {Model5_intercept} + {Model5_coefficient:.2f} * bedrooms\\n\")\n"
      ],
      "metadata": {
        "colab": {
          "base_uri": "https://localhost:8080/"
        },
        "id": "0y8jAGpyPzvg",
        "outputId": "90b5092d-c9b8-4641-8985-1c44870db7a6"
      },
      "execution_count": null,
      "outputs": [
        {
          "output_type": "stream",
          "name": "stdout",
          "text": [
            " Model 5: Simple Regression\n",
            "Mean Squared Error (k-fold cross-validation): 122055082758.38713\n",
            "Optimized Model: y = 129802.35631825868 + 121716.13 * bedrooms\n",
            "\n"
          ]
        }
      ]
    },
    {
      "cell_type": "markdown",
      "source": [
        "#**D1.Concepts**"
      ],
      "metadata": {
        "id": "VWOoyE_QQ4p4"
      }
    },
    {
      "cell_type": "markdown",
      "source": [
        "## Illustrate the Learning Rate Selection Process:\n",
        "\n",
        "Commence Training with a Modest Learning Rate: It is advisable to initiate the training process with a small learning rate. A smaller learning rate facilitates a gradual convergence of the model, reducing the likelihood of overshooting the minimum of the cost function.\n",
        "\n",
        "Experiment and Fine-Tune: Explore various learning rates during the training process and observe the model's behavior. If the learning rate is too diminutive, the model may take an extended period to converge. Conversely, if it's excessively large, the model may struggle to converge, oscillating around the minimum without reaching it.\n",
        "\n",
        "Utilize Learning Rate Schedules: Implementing learning rate schedules is a common practice. This involves dynamically adjusting the learning rate over time. Initially, a larger learning rate can expedite the convergence process, and subsequently, a smaller learning rate can be employed for fine-tuning as the model approaches optimal parameters. This approach helps balance efficiency and precision in model training."
      ],
      "metadata": {
        "id": "N2x7-Q16VK8Y"
      }
    },
    {
      "cell_type": "markdown",
      "source": [
        "## The Advantages of Starting with a Large Learning Rate and Reducing It Iteratively:\n",
        "\n",
        "Accelerated Convergence Initially: Employing a substantial learning rate empowers the model to cover more ground with larger steps during the initial iterations, expediting the convergence process. This proves advantageous, particularly when the model is distant from the optimal parameters.\n",
        "\n",
        "Preventing Oscillations: Gradually decreasing the learning rate aids in stabilizing the model as it approaches the optimal parameters. This strategic reduction mitigates the risk of overshooting and oscillations around the minimum, fostering a more controlled and accurate convergence."
      ],
      "metadata": {
        "id": "peAOhP6BVexe"
      }
    },
    {
      "cell_type": "markdown",
      "source": [
        "# D2. We can Analyse the expected Residual Sum of Squares in Model 1 Using the optimization method\n"
      ],
      "metadata": {
        "id": "eEi2J5oFZIUh"
      }
    },
    {
      "cell_type": "code",
      "source": [
        "# Make predictions\n",
        "# Reshape the input data to a 2D array\n",
        "sqft_living = x['sqft_living'].values.reshape(-1, 1)\n",
        "price_pred = Model1.predict(sqft_living)\n",
        "\n",
        "# Calculate expected residual sum of squares (ERSS)\n",
        "Model1_erss = np.sum((y - price_pred) ** 2) / len(y)\n",
        "\n",
        "print(\"Expected Residual Sum of Squares (ERSS):\", Model1_erss)"
      ],
      "metadata": {
        "colab": {
          "base_uri": "https://localhost:8080/"
        },
        "id": "P981eiEjXp9U",
        "outputId": "eaac2ec6-0385-4487-9e8b-c69daa80c569"
      },
      "execution_count": null,
      "outputs": [
        {
          "output_type": "stream",
          "name": "stdout",
          "text": [
            "Expected Residual Sum of Squares (ERSS): 68351286833.039825\n"
          ]
        }
      ]
    },
    {
      "cell_type": "markdown",
      "source": [
        "This metric serves as an overall assessment of how well the simple regression model fits the data. However, it does not explicitly indicate the specific parameters that lead to the minimum point for the Residual Sum of Squares (RSS). In the context of this regression, the primary objective is to minimize the RSS, which is the sum of squared differences between observed and predicted values. The RSS gauges the model's effectiveness in explaining the variance within the target variable, House Prices.\n",
        "\n",
        "The RSS is essentially an average of the squared disparities between observed and predicted values. It does not represent the minimum RSS for a particular set of model parameters but rather functions as an evaluative metric for the model's overall performance. To identify the parameters yielding the minimum RSS, this is typically addressed during the model training process. Many simple regression algorithms leverage optimization techniques, like gradient descent, to determine the parameter values that minimize the RSS. Following the training phase, you can then assess the model's efficacy using metrics such as the RSS.\n"
      ],
      "metadata": {
        "id": "SZPwZJbnaWVK"
      }
    },
    {
      "cell_type": "markdown",
      "source": [
        "# **D3. Discuss the indicators that help determine if Model 2 is not overfitted.**"
      ],
      "metadata": {
        "id": "frK0AWWaaY7Y"
      }
    },
    {
      "cell_type": "markdown",
      "source": [
        "\n",
        "To assess the potential overfitting of Model 2 (Polynomial Regression), it is essential to evaluate its performance on both the training and testing sets and scrutinize the learning curves. The objective is to examine whether the model demonstrates robust generalization to unseen data."
      ],
      "metadata": {
        "id": "tFfh_a1payXQ"
      }
    },
    {
      "cell_type": "markdown",
      "source": [
        "# **D4. Explain how you select the best alpha for Model 4.**"
      ],
      "metadata": {
        "id": "jN0bq006bP_-"
      }
    },
    {
      "cell_type": "markdown",
      "source": [
        "In the context of Ridge Regression, grid search involves selecting a range of alpha values and assessing the model's performance through cross-validation. This iterative process encompasses training and validating the model multiple times, each time with a different alpha value. The alpha that minimizes the chosen metric, such as mean squared error (MSE), is then identified as the optimal hyperparameter.\n",
        "\n",
        "Initiating the grid search entails defining a grid of alpha values to explore. Often, this grid is logarithmically chosen to encompass a diverse range of scales. For each alpha in the grid, the Ridge Regression model undergoes training and evaluation using cross-validation. The performance metric, such as MSE, is recorded for each alpha. The alpha corresponding to the lowest MSE is ultimately recognized as the optimal hyperparameter."
      ],
      "metadata": {
        "id": "R05S-HaZbW4I"
      }
    },
    {
      "cell_type": "markdown",
      "source": [
        "# **D5. Explain the rationale behind your suggestion for Model**"
      ],
      "metadata": {
        "id": "ctLQedyucP2S"
      }
    },
    {
      "cell_type": "code",
      "source": [
        "#Present your suggested model.\n",
        "print(f'The mean squared error of Model1 is {mean_Model1_mse:.4f}')\n",
        "print(f'The mean squared error of Model2 is {mean_Model2_mse:.4f}')\n",
        "print(f'The mean squared error of Model3 is {mean_Model3_mse:.4f}')\n",
        "print(f'The mean squared error of Model4 is {mean_Model4_mse:.4f}')\n",
        "print(f'The mean squared error of Model5 is {mean_Model5_mse:.4f}')"
      ],
      "metadata": {
        "colab": {
          "base_uri": "https://localhost:8080/"
        },
        "id": "AlHcLUIsQALw",
        "outputId": "982cb7e5-84aa-4088-a833-5d7e2d36f0dd"
      },
      "execution_count": null,
      "outputs": [
        {
          "output_type": "stream",
          "name": "stdout",
          "text": [
            "The mean squared error of Model1 is 68422325026.1340\n",
            "The mean squared error of Model2 is 75807750114.8178\n",
            "The mean squared error of Model3 is 46119160003.0156\n",
            "The mean squared error of Model4 is 46383042994.0420\n",
            "The mean squared error of Model5 is 122055082758.3871\n"
          ]
        }
      ]
    },
    {
      "cell_type": "markdown",
      "source": [
        "#**D6. Evaluate the complexity of the five models**"
      ],
      "metadata": {
        "id": "9jvK90fpczFJ"
      }
    },
    {
      "cell_type": "markdown",
      "source": [
        "The mean squared error (MSE) is a common metric used to evaluate the performance of regression models. It measures the average of the squared differences between the observed (actual) values and the predicted values. A lower MSE indicates a better fit of the model to the data.\n",
        "\n",
        "Model 3 has a lower MSE compared to both Models 1 and 2. A lower MSE is generally indicative of a model that fits the data more closely.\n",
        "\n",
        "Model 5 has the highest MSE among all the models. This implies larger squared differences between its predicted and actual values, suggesting a potentially poorer fit to the data compared to the other models.\n",
        "\n",
        "In summary, when comparing these models, you would typically choose the model with the lowest MSE, as it indicates the best overall fit to the data. Models 3 and 4 seem to perform better in terms of MSE compared to Models 1, 2, and 5.\n"
      ],
      "metadata": {
        "id": "ZUUJtwUHQxNj"
      }
    },
    {
      "cell_type": "markdown",
      "source": [
        "# **E. Model Assessment**"
      ],
      "metadata": {
        "id": "m9eMUNbhdxRB"
      }
    },
    {
      "cell_type": "markdown",
      "source": [
        "# E1. Predict the test data using all five models and calculate the mean squared error (MSE)"
      ],
      "metadata": {
        "id": "J4pm0mygd8mG"
      }
    },
    {
      "cell_type": "code",
      "source": [
        "# We want to Predict the test data using all five models and calculate the mean squared error. We therefore load the test dataset using pandas.\n",
        "\n",
        "Df2 = pd.read_csv('test_data.csv')\n",
        "Df2.head(4)"
      ],
      "metadata": {
        "colab": {
          "base_uri": "https://localhost:8080/",
          "height": 195
        },
        "id": "4MOhQLLrt0el",
        "outputId": "66c4c7f2-e8ec-4891-fa2e-ba6cf8afc2ce"
      },
      "execution_count": null,
      "outputs": [
        {
          "output_type": "execute_result",
          "data": {
            "text/plain": [
              "   id             date  bedrooms  bathrooms  sqft_living  sqft_lot  floors  \\\n",
              "0   1  20141224T000000         3       1.00         1775      5070       1   \n",
              "1   2  20141020T000000         4       2.50         1836     18994       2   \n",
              "2   3  20140904T000000         4       1.50         1964      5308       2   \n",
              "3   4  20140625T000000         4       2.75         1294      4304       0   \n",
              "\n",
              "   waterfront  view  condition  grade  sqft_above  sqft_basement  yr_built  \\\n",
              "0           0     0          4      7        1561            107      1979   \n",
              "1           0     0          3      8         891             47      1981   \n",
              "2           0     0          3      7        1785            755      1984   \n",
              "3           0     0          3      6        1263             34      2009   \n",
              "\n",
              "   yr_renovated  zipcode      lat     long  sqft_living15  sqft_lot15  \n",
              "0             0    98137  47.4915 -122.200           1099        5255  \n",
              "1             0    98107  47.6464 -122.328           1140        6726  \n",
              "2             0    98034  47.3048 -122.237           2102        5078  \n",
              "3             0    98077  47.5398 -122.388           2295       26363  "
            ],
            "text/html": [
              "\n",
              "  <div id=\"df-9b4b7055-ce43-4e37-a1e9-4eae2305582f\" class=\"colab-df-container\">\n",
              "    <div>\n",
              "<style scoped>\n",
              "    .dataframe tbody tr th:only-of-type {\n",
              "        vertical-align: middle;\n",
              "    }\n",
              "\n",
              "    .dataframe tbody tr th {\n",
              "        vertical-align: top;\n",
              "    }\n",
              "\n",
              "    .dataframe thead th {\n",
              "        text-align: right;\n",
              "    }\n",
              "</style>\n",
              "<table border=\"1\" class=\"dataframe\">\n",
              "  <thead>\n",
              "    <tr style=\"text-align: right;\">\n",
              "      <th></th>\n",
              "      <th>id</th>\n",
              "      <th>date</th>\n",
              "      <th>bedrooms</th>\n",
              "      <th>bathrooms</th>\n",
              "      <th>sqft_living</th>\n",
              "      <th>sqft_lot</th>\n",
              "      <th>floors</th>\n",
              "      <th>waterfront</th>\n",
              "      <th>view</th>\n",
              "      <th>condition</th>\n",
              "      <th>grade</th>\n",
              "      <th>sqft_above</th>\n",
              "      <th>sqft_basement</th>\n",
              "      <th>yr_built</th>\n",
              "      <th>yr_renovated</th>\n",
              "      <th>zipcode</th>\n",
              "      <th>lat</th>\n",
              "      <th>long</th>\n",
              "      <th>sqft_living15</th>\n",
              "      <th>sqft_lot15</th>\n",
              "    </tr>\n",
              "  </thead>\n",
              "  <tbody>\n",
              "    <tr>\n",
              "      <th>0</th>\n",
              "      <td>1</td>\n",
              "      <td>20141224T000000</td>\n",
              "      <td>3</td>\n",
              "      <td>1.00</td>\n",
              "      <td>1775</td>\n",
              "      <td>5070</td>\n",
              "      <td>1</td>\n",
              "      <td>0</td>\n",
              "      <td>0</td>\n",
              "      <td>4</td>\n",
              "      <td>7</td>\n",
              "      <td>1561</td>\n",
              "      <td>107</td>\n",
              "      <td>1979</td>\n",
              "      <td>0</td>\n",
              "      <td>98137</td>\n",
              "      <td>47.4915</td>\n",
              "      <td>-122.200</td>\n",
              "      <td>1099</td>\n",
              "      <td>5255</td>\n",
              "    </tr>\n",
              "    <tr>\n",
              "      <th>1</th>\n",
              "      <td>2</td>\n",
              "      <td>20141020T000000</td>\n",
              "      <td>4</td>\n",
              "      <td>2.50</td>\n",
              "      <td>1836</td>\n",
              "      <td>18994</td>\n",
              "      <td>2</td>\n",
              "      <td>0</td>\n",
              "      <td>0</td>\n",
              "      <td>3</td>\n",
              "      <td>8</td>\n",
              "      <td>891</td>\n",
              "      <td>47</td>\n",
              "      <td>1981</td>\n",
              "      <td>0</td>\n",
              "      <td>98107</td>\n",
              "      <td>47.6464</td>\n",
              "      <td>-122.328</td>\n",
              "      <td>1140</td>\n",
              "      <td>6726</td>\n",
              "    </tr>\n",
              "    <tr>\n",
              "      <th>2</th>\n",
              "      <td>3</td>\n",
              "      <td>20140904T000000</td>\n",
              "      <td>4</td>\n",
              "      <td>1.50</td>\n",
              "      <td>1964</td>\n",
              "      <td>5308</td>\n",
              "      <td>2</td>\n",
              "      <td>0</td>\n",
              "      <td>0</td>\n",
              "      <td>3</td>\n",
              "      <td>7</td>\n",
              "      <td>1785</td>\n",
              "      <td>755</td>\n",
              "      <td>1984</td>\n",
              "      <td>0</td>\n",
              "      <td>98034</td>\n",
              "      <td>47.3048</td>\n",
              "      <td>-122.237</td>\n",
              "      <td>2102</td>\n",
              "      <td>5078</td>\n",
              "    </tr>\n",
              "    <tr>\n",
              "      <th>3</th>\n",
              "      <td>4</td>\n",
              "      <td>20140625T000000</td>\n",
              "      <td>4</td>\n",
              "      <td>2.75</td>\n",
              "      <td>1294</td>\n",
              "      <td>4304</td>\n",
              "      <td>0</td>\n",
              "      <td>0</td>\n",
              "      <td>0</td>\n",
              "      <td>3</td>\n",
              "      <td>6</td>\n",
              "      <td>1263</td>\n",
              "      <td>34</td>\n",
              "      <td>2009</td>\n",
              "      <td>0</td>\n",
              "      <td>98077</td>\n",
              "      <td>47.5398</td>\n",
              "      <td>-122.388</td>\n",
              "      <td>2295</td>\n",
              "      <td>26363</td>\n",
              "    </tr>\n",
              "  </tbody>\n",
              "</table>\n",
              "</div>\n",
              "    <div class=\"colab-df-buttons\">\n",
              "\n",
              "  <div class=\"colab-df-container\">\n",
              "    <button class=\"colab-df-convert\" onclick=\"convertToInteractive('df-9b4b7055-ce43-4e37-a1e9-4eae2305582f')\"\n",
              "            title=\"Convert this dataframe to an interactive table.\"\n",
              "            style=\"display:none;\">\n",
              "\n",
              "  <svg xmlns=\"http://www.w3.org/2000/svg\" height=\"24px\" viewBox=\"0 -960 960 960\">\n",
              "    <path d=\"M120-120v-720h720v720H120Zm60-500h600v-160H180v160Zm220 220h160v-160H400v160Zm0 220h160v-160H400v160ZM180-400h160v-160H180v160Zm440 0h160v-160H620v160ZM180-180h160v-160H180v160Zm440 0h160v-160H620v160Z\"/>\n",
              "  </svg>\n",
              "    </button>\n",
              "\n",
              "  <style>\n",
              "    .colab-df-container {\n",
              "      display:flex;\n",
              "      gap: 12px;\n",
              "    }\n",
              "\n",
              "    .colab-df-convert {\n",
              "      background-color: #E8F0FE;\n",
              "      border: none;\n",
              "      border-radius: 50%;\n",
              "      cursor: pointer;\n",
              "      display: none;\n",
              "      fill: #1967D2;\n",
              "      height: 32px;\n",
              "      padding: 0 0 0 0;\n",
              "      width: 32px;\n",
              "    }\n",
              "\n",
              "    .colab-df-convert:hover {\n",
              "      background-color: #E2EBFA;\n",
              "      box-shadow: 0px 1px 2px rgba(60, 64, 67, 0.3), 0px 1px 3px 1px rgba(60, 64, 67, 0.15);\n",
              "      fill: #174EA6;\n",
              "    }\n",
              "\n",
              "    .colab-df-buttons div {\n",
              "      margin-bottom: 4px;\n",
              "    }\n",
              "\n",
              "    [theme=dark] .colab-df-convert {\n",
              "      background-color: #3B4455;\n",
              "      fill: #D2E3FC;\n",
              "    }\n",
              "\n",
              "    [theme=dark] .colab-df-convert:hover {\n",
              "      background-color: #434B5C;\n",
              "      box-shadow: 0px 1px 3px 1px rgba(0, 0, 0, 0.15);\n",
              "      filter: drop-shadow(0px 1px 2px rgba(0, 0, 0, 0.3));\n",
              "      fill: #FFFFFF;\n",
              "    }\n",
              "  </style>\n",
              "\n",
              "    <script>\n",
              "      const buttonEl =\n",
              "        document.querySelector('#df-9b4b7055-ce43-4e37-a1e9-4eae2305582f button.colab-df-convert');\n",
              "      buttonEl.style.display =\n",
              "        google.colab.kernel.accessAllowed ? 'block' : 'none';\n",
              "\n",
              "      async function convertToInteractive(key) {\n",
              "        const element = document.querySelector('#df-9b4b7055-ce43-4e37-a1e9-4eae2305582f');\n",
              "        const dataTable =\n",
              "          await google.colab.kernel.invokeFunction('convertToInteractive',\n",
              "                                                    [key], {});\n",
              "        if (!dataTable) return;\n",
              "\n",
              "        const docLinkHtml = 'Like what you see? Visit the ' +\n",
              "          '<a target=\"_blank\" href=https://colab.research.google.com/notebooks/data_table.ipynb>data table notebook</a>'\n",
              "          + ' to learn more about interactive tables.';\n",
              "        element.innerHTML = '';\n",
              "        dataTable['output_type'] = 'display_data';\n",
              "        await google.colab.output.renderOutput(dataTable, element);\n",
              "        const docLink = document.createElement('div');\n",
              "        docLink.innerHTML = docLinkHtml;\n",
              "        element.appendChild(docLink);\n",
              "      }\n",
              "    </script>\n",
              "  </div>\n",
              "\n",
              "\n",
              "<div id=\"df-bac14ef2-e706-4858-8a81-47507df06194\">\n",
              "  <button class=\"colab-df-quickchart\" onclick=\"quickchart('df-bac14ef2-e706-4858-8a81-47507df06194')\"\n",
              "            title=\"Suggest charts\"\n",
              "            style=\"display:none;\">\n",
              "\n",
              "<svg xmlns=\"http://www.w3.org/2000/svg\" height=\"24px\"viewBox=\"0 0 24 24\"\n",
              "     width=\"24px\">\n",
              "    <g>\n",
              "        <path d=\"M19 3H5c-1.1 0-2 .9-2 2v14c0 1.1.9 2 2 2h14c1.1 0 2-.9 2-2V5c0-1.1-.9-2-2-2zM9 17H7v-7h2v7zm4 0h-2V7h2v10zm4 0h-2v-4h2v4z\"/>\n",
              "    </g>\n",
              "</svg>\n",
              "  </button>\n",
              "\n",
              "<style>\n",
              "  .colab-df-quickchart {\n",
              "      --bg-color: #E8F0FE;\n",
              "      --fill-color: #1967D2;\n",
              "      --hover-bg-color: #E2EBFA;\n",
              "      --hover-fill-color: #174EA6;\n",
              "      --disabled-fill-color: #AAA;\n",
              "      --disabled-bg-color: #DDD;\n",
              "  }\n",
              "\n",
              "  [theme=dark] .colab-df-quickchart {\n",
              "      --bg-color: #3B4455;\n",
              "      --fill-color: #D2E3FC;\n",
              "      --hover-bg-color: #434B5C;\n",
              "      --hover-fill-color: #FFFFFF;\n",
              "      --disabled-bg-color: #3B4455;\n",
              "      --disabled-fill-color: #666;\n",
              "  }\n",
              "\n",
              "  .colab-df-quickchart {\n",
              "    background-color: var(--bg-color);\n",
              "    border: none;\n",
              "    border-radius: 50%;\n",
              "    cursor: pointer;\n",
              "    display: none;\n",
              "    fill: var(--fill-color);\n",
              "    height: 32px;\n",
              "    padding: 0;\n",
              "    width: 32px;\n",
              "  }\n",
              "\n",
              "  .colab-df-quickchart:hover {\n",
              "    background-color: var(--hover-bg-color);\n",
              "    box-shadow: 0 1px 2px rgba(60, 64, 67, 0.3), 0 1px 3px 1px rgba(60, 64, 67, 0.15);\n",
              "    fill: var(--button-hover-fill-color);\n",
              "  }\n",
              "\n",
              "  .colab-df-quickchart-complete:disabled,\n",
              "  .colab-df-quickchart-complete:disabled:hover {\n",
              "    background-color: var(--disabled-bg-color);\n",
              "    fill: var(--disabled-fill-color);\n",
              "    box-shadow: none;\n",
              "  }\n",
              "\n",
              "  .colab-df-spinner {\n",
              "    border: 2px solid var(--fill-color);\n",
              "    border-color: transparent;\n",
              "    border-bottom-color: var(--fill-color);\n",
              "    animation:\n",
              "      spin 1s steps(1) infinite;\n",
              "  }\n",
              "\n",
              "  @keyframes spin {\n",
              "    0% {\n",
              "      border-color: transparent;\n",
              "      border-bottom-color: var(--fill-color);\n",
              "      border-left-color: var(--fill-color);\n",
              "    }\n",
              "    20% {\n",
              "      border-color: transparent;\n",
              "      border-left-color: var(--fill-color);\n",
              "      border-top-color: var(--fill-color);\n",
              "    }\n",
              "    30% {\n",
              "      border-color: transparent;\n",
              "      border-left-color: var(--fill-color);\n",
              "      border-top-color: var(--fill-color);\n",
              "      border-right-color: var(--fill-color);\n",
              "    }\n",
              "    40% {\n",
              "      border-color: transparent;\n",
              "      border-right-color: var(--fill-color);\n",
              "      border-top-color: var(--fill-color);\n",
              "    }\n",
              "    60% {\n",
              "      border-color: transparent;\n",
              "      border-right-color: var(--fill-color);\n",
              "    }\n",
              "    80% {\n",
              "      border-color: transparent;\n",
              "      border-right-color: var(--fill-color);\n",
              "      border-bottom-color: var(--fill-color);\n",
              "    }\n",
              "    90% {\n",
              "      border-color: transparent;\n",
              "      border-bottom-color: var(--fill-color);\n",
              "    }\n",
              "  }\n",
              "</style>\n",
              "\n",
              "  <script>\n",
              "    async function quickchart(key) {\n",
              "      const quickchartButtonEl =\n",
              "        document.querySelector('#' + key + ' button');\n",
              "      quickchartButtonEl.disabled = true;  // To prevent multiple clicks.\n",
              "      quickchartButtonEl.classList.add('colab-df-spinner');\n",
              "      try {\n",
              "        const charts = await google.colab.kernel.invokeFunction(\n",
              "            'suggestCharts', [key], {});\n",
              "      } catch (error) {\n",
              "        console.error('Error during call to suggestCharts:', error);\n",
              "      }\n",
              "      quickchartButtonEl.classList.remove('colab-df-spinner');\n",
              "      quickchartButtonEl.classList.add('colab-df-quickchart-complete');\n",
              "    }\n",
              "    (() => {\n",
              "      let quickchartButtonEl =\n",
              "        document.querySelector('#df-bac14ef2-e706-4858-8a81-47507df06194 button');\n",
              "      quickchartButtonEl.style.display =\n",
              "        google.colab.kernel.accessAllowed ? 'block' : 'none';\n",
              "    })();\n",
              "  </script>\n",
              "</div>\n",
              "    </div>\n",
              "  </div>\n"
            ]
          },
          "metadata": {},
          "execution_count": 228
        }
      ]
    },
    {
      "cell_type": "markdown",
      "source": [
        "##**Model 1: Simple regression using Sqft_Living.**"
      ],
      "metadata": {
        "id": "KdDVIUicS1BZ"
      }
    },
    {
      "cell_type": "code",
      "source": [
        "# Split the House data into training and test sets in order to train the model. Recall Model1 only investigated the Sqft_living defined as x_1.\n",
        "#Define the input variable.\n",
        "t_1= Df['sqft_living'].values.reshape(-1, 1)\n",
        "\n",
        "t_1_train, t_1_test, y_train, y_test = train_test_split(t_1, y, test_size=511, random_state=random_state)\n",
        "\n",
        "# Train a regression model using the first data.\n",
        "Model1.fit(t_1_train, y_train)\n",
        "\n",
        "#Define the input variable from the test dataset.\n",
        "tt_1 = Df2['sqft_living'].values.reshape(-1, 1)\n",
        "\n",
        "# Make predictions on the model using the test data.\n",
        "y_pred1 = Model1.predict(tt_1)\n",
        "\n",
        "\n",
        "Model1_test_mse= MSE(y_test, y_pred1)\n",
        "print(f\"Model1 Test Mean Squared Error: {Model1_test_mse}\")"
      ],
      "metadata": {
        "colab": {
          "base_uri": "https://localhost:8080/"
        },
        "id": "IV2Okmf23-0e",
        "outputId": "555eb060-e216-4a13-819b-cdc53cdb4e62"
      },
      "execution_count": null,
      "outputs": [
        {
          "output_type": "stream",
          "name": "stdout",
          "text": [
            "Model1 Test Mean Squared Error: 157843833355.60223\n"
          ]
        }
      ]
    },
    {
      "cell_type": "markdown",
      "source": [
        "## **Model2: Polynomial Model using Sqft_Living to a degree of 2.**"
      ],
      "metadata": {
        "id": "cVicRjSfS-Lq"
      }
    },
    {
      "cell_type": "code",
      "source": [
        "# Create polynomial features\n",
        "poly = PolynomialFeatures(degree=2, include_bias=False)\n",
        "t_poly = poly.fit_transform(t_1)\n",
        "\n",
        "# Split the data into training and test sets\n",
        "t_2_train, t_2_test, y_train, y_test = train_test_split(t_poly, y, test_size=511, random_state=random_state)\n",
        "\n",
        "# Train a polynomial regression model using the main house dataset.\n",
        "poly_model2 = LinearRegression()\n",
        "poly_model2.fit(t_2_train, y_train)\n",
        "\n",
        "# Make predictions on the test set\n",
        "tt_poly = poly.fit_transform(tt_1)\n",
        "y_pred2 = poly_model2.predict(tt_poly)\n",
        "\n",
        "# Evaluate the model\n",
        "poly_model2_test_mse = MSE(y_test, y_pred2)\n",
        "print(f\"Poly Model2 Test Mean Squared Error: {poly_model2_test_mse}\")"
      ],
      "metadata": {
        "colab": {
          "base_uri": "https://localhost:8080/"
        },
        "id": "eVkRAdDG3-4G",
        "outputId": "63eca0e7-68f3-4694-ab46-c21ba1e3554a"
      },
      "execution_count": null,
      "outputs": [
        {
          "output_type": "stream",
          "name": "stdout",
          "text": [
            "Poly Model2 Test Mean Squared Error: 146026757706.5356\n"
          ]
        }
      ]
    },
    {
      "cell_type": "markdown",
      "source": [
        "## **Model3:Multiple Regression.**"
      ],
      "metadata": {
        "id": "lOIB6LBcTMUm"
      }
    },
    {
      "cell_type": "code",
      "source": [
        "print(\"Selected Features:\", selected_features)\n",
        "D2=Df2\n",
        "xt=D2[features]\n",
        "xt"
      ],
      "metadata": {
        "colab": {
          "base_uri": "https://localhost:8080/",
          "height": 461
        },
        "id": "aoYCmTtGD5kP",
        "outputId": "cdc6af66-c4fe-416c-9bbc-0ada46f05678"
      },
      "execution_count": null,
      "outputs": [
        {
          "output_type": "stream",
          "name": "stdout",
          "text": [
            "Selected Features: ['sqft_living', 'lat', 'grade', 'yr_built', 'bedrooms', 'bathrooms', 'long', 'sqft_living15', 'yr_renovated', 'sqft_lot15', 'floors', 'sqft_basement', 'sqft_above', 'sqft_lot']\n"
          ]
        },
        {
          "output_type": "execute_result",
          "data": {
            "text/plain": [
              "     bedrooms  bathrooms  sqft_living  sqft_lot  floors  yr_built  \\\n",
              "0           3       1.00         1775      5070       1      1979   \n",
              "1           4       2.50         1836     18994       2      1981   \n",
              "2           4       1.50         1964      5308       2      1984   \n",
              "3           4       2.75         1294      4304       0      2009   \n",
              "4           4       2.75         1736     13308       1      1969   \n",
              "..        ...        ...          ...       ...     ...       ...   \n",
              "506         2       1.00         1285      9291       2      1883   \n",
              "507         4       1.75         2695      4424       2      1922   \n",
              "508         3       2.00         1300      1702       1      1899   \n",
              "509         4       2.25         1547     16442       2      1975   \n",
              "510         3       1.50         1634     14235       1      1961   \n",
              "\n",
              "     yr_renovated  sqft_living15  sqft_lot15  sqft_basement  sqft_above  \\\n",
              "0               0           1099        5255            107        1561   \n",
              "1               0           1140        6726             47         891   \n",
              "2               0           2102        5078            755        1785   \n",
              "3               0           2295       26363             34        1263   \n",
              "4               0           2095       13990              6        1416   \n",
              "..            ...            ...         ...            ...         ...   \n",
              "506             0           1718       15534             96        1428   \n",
              "507             0           2542        3924            901        1659   \n",
              "508             0           2406        5179             57        1627   \n",
              "509             0           1345        9845            174        1795   \n",
              "510             0           1549        4440            210        1314   \n",
              "\n",
              "     grade      lat     long  \n",
              "0        7  47.4915 -122.200  \n",
              "1        8  47.6464 -122.328  \n",
              "2        7  47.3048 -122.237  \n",
              "3        6  47.5398 -122.388  \n",
              "4        9  47.6888 -122.318  \n",
              "..     ...      ...      ...  \n",
              "506      7  47.4156 -122.396  \n",
              "507      8  47.6916 -122.329  \n",
              "508      8  47.7849 -122.136  \n",
              "509      6  47.4097 -122.097  \n",
              "510      8  47.7195 -122.303  \n",
              "\n",
              "[511 rows x 14 columns]"
            ],
            "text/html": [
              "\n",
              "  <div id=\"df-00b366c3-683b-4880-88c1-6cb6d6e244aa\" class=\"colab-df-container\">\n",
              "    <div>\n",
              "<style scoped>\n",
              "    .dataframe tbody tr th:only-of-type {\n",
              "        vertical-align: middle;\n",
              "    }\n",
              "\n",
              "    .dataframe tbody tr th {\n",
              "        vertical-align: top;\n",
              "    }\n",
              "\n",
              "    .dataframe thead th {\n",
              "        text-align: right;\n",
              "    }\n",
              "</style>\n",
              "<table border=\"1\" class=\"dataframe\">\n",
              "  <thead>\n",
              "    <tr style=\"text-align: right;\">\n",
              "      <th></th>\n",
              "      <th>bedrooms</th>\n",
              "      <th>bathrooms</th>\n",
              "      <th>sqft_living</th>\n",
              "      <th>sqft_lot</th>\n",
              "      <th>floors</th>\n",
              "      <th>yr_built</th>\n",
              "      <th>yr_renovated</th>\n",
              "      <th>sqft_living15</th>\n",
              "      <th>sqft_lot15</th>\n",
              "      <th>sqft_basement</th>\n",
              "      <th>sqft_above</th>\n",
              "      <th>grade</th>\n",
              "      <th>lat</th>\n",
              "      <th>long</th>\n",
              "    </tr>\n",
              "  </thead>\n",
              "  <tbody>\n",
              "    <tr>\n",
              "      <th>0</th>\n",
              "      <td>3</td>\n",
              "      <td>1.00</td>\n",
              "      <td>1775</td>\n",
              "      <td>5070</td>\n",
              "      <td>1</td>\n",
              "      <td>1979</td>\n",
              "      <td>0</td>\n",
              "      <td>1099</td>\n",
              "      <td>5255</td>\n",
              "      <td>107</td>\n",
              "      <td>1561</td>\n",
              "      <td>7</td>\n",
              "      <td>47.4915</td>\n",
              "      <td>-122.200</td>\n",
              "    </tr>\n",
              "    <tr>\n",
              "      <th>1</th>\n",
              "      <td>4</td>\n",
              "      <td>2.50</td>\n",
              "      <td>1836</td>\n",
              "      <td>18994</td>\n",
              "      <td>2</td>\n",
              "      <td>1981</td>\n",
              "      <td>0</td>\n",
              "      <td>1140</td>\n",
              "      <td>6726</td>\n",
              "      <td>47</td>\n",
              "      <td>891</td>\n",
              "      <td>8</td>\n",
              "      <td>47.6464</td>\n",
              "      <td>-122.328</td>\n",
              "    </tr>\n",
              "    <tr>\n",
              "      <th>2</th>\n",
              "      <td>4</td>\n",
              "      <td>1.50</td>\n",
              "      <td>1964</td>\n",
              "      <td>5308</td>\n",
              "      <td>2</td>\n",
              "      <td>1984</td>\n",
              "      <td>0</td>\n",
              "      <td>2102</td>\n",
              "      <td>5078</td>\n",
              "      <td>755</td>\n",
              "      <td>1785</td>\n",
              "      <td>7</td>\n",
              "      <td>47.3048</td>\n",
              "      <td>-122.237</td>\n",
              "    </tr>\n",
              "    <tr>\n",
              "      <th>3</th>\n",
              "      <td>4</td>\n",
              "      <td>2.75</td>\n",
              "      <td>1294</td>\n",
              "      <td>4304</td>\n",
              "      <td>0</td>\n",
              "      <td>2009</td>\n",
              "      <td>0</td>\n",
              "      <td>2295</td>\n",
              "      <td>26363</td>\n",
              "      <td>34</td>\n",
              "      <td>1263</td>\n",
              "      <td>6</td>\n",
              "      <td>47.5398</td>\n",
              "      <td>-122.388</td>\n",
              "    </tr>\n",
              "    <tr>\n",
              "      <th>4</th>\n",
              "      <td>4</td>\n",
              "      <td>2.75</td>\n",
              "      <td>1736</td>\n",
              "      <td>13308</td>\n",
              "      <td>1</td>\n",
              "      <td>1969</td>\n",
              "      <td>0</td>\n",
              "      <td>2095</td>\n",
              "      <td>13990</td>\n",
              "      <td>6</td>\n",
              "      <td>1416</td>\n",
              "      <td>9</td>\n",
              "      <td>47.6888</td>\n",
              "      <td>-122.318</td>\n",
              "    </tr>\n",
              "    <tr>\n",
              "      <th>...</th>\n",
              "      <td>...</td>\n",
              "      <td>...</td>\n",
              "      <td>...</td>\n",
              "      <td>...</td>\n",
              "      <td>...</td>\n",
              "      <td>...</td>\n",
              "      <td>...</td>\n",
              "      <td>...</td>\n",
              "      <td>...</td>\n",
              "      <td>...</td>\n",
              "      <td>...</td>\n",
              "      <td>...</td>\n",
              "      <td>...</td>\n",
              "      <td>...</td>\n",
              "    </tr>\n",
              "    <tr>\n",
              "      <th>506</th>\n",
              "      <td>2</td>\n",
              "      <td>1.00</td>\n",
              "      <td>1285</td>\n",
              "      <td>9291</td>\n",
              "      <td>2</td>\n",
              "      <td>1883</td>\n",
              "      <td>0</td>\n",
              "      <td>1718</td>\n",
              "      <td>15534</td>\n",
              "      <td>96</td>\n",
              "      <td>1428</td>\n",
              "      <td>7</td>\n",
              "      <td>47.4156</td>\n",
              "      <td>-122.396</td>\n",
              "    </tr>\n",
              "    <tr>\n",
              "      <th>507</th>\n",
              "      <td>4</td>\n",
              "      <td>1.75</td>\n",
              "      <td>2695</td>\n",
              "      <td>4424</td>\n",
              "      <td>2</td>\n",
              "      <td>1922</td>\n",
              "      <td>0</td>\n",
              "      <td>2542</td>\n",
              "      <td>3924</td>\n",
              "      <td>901</td>\n",
              "      <td>1659</td>\n",
              "      <td>8</td>\n",
              "      <td>47.6916</td>\n",
              "      <td>-122.329</td>\n",
              "    </tr>\n",
              "    <tr>\n",
              "      <th>508</th>\n",
              "      <td>3</td>\n",
              "      <td>2.00</td>\n",
              "      <td>1300</td>\n",
              "      <td>1702</td>\n",
              "      <td>1</td>\n",
              "      <td>1899</td>\n",
              "      <td>0</td>\n",
              "      <td>2406</td>\n",
              "      <td>5179</td>\n",
              "      <td>57</td>\n",
              "      <td>1627</td>\n",
              "      <td>8</td>\n",
              "      <td>47.7849</td>\n",
              "      <td>-122.136</td>\n",
              "    </tr>\n",
              "    <tr>\n",
              "      <th>509</th>\n",
              "      <td>4</td>\n",
              "      <td>2.25</td>\n",
              "      <td>1547</td>\n",
              "      <td>16442</td>\n",
              "      <td>2</td>\n",
              "      <td>1975</td>\n",
              "      <td>0</td>\n",
              "      <td>1345</td>\n",
              "      <td>9845</td>\n",
              "      <td>174</td>\n",
              "      <td>1795</td>\n",
              "      <td>6</td>\n",
              "      <td>47.4097</td>\n",
              "      <td>-122.097</td>\n",
              "    </tr>\n",
              "    <tr>\n",
              "      <th>510</th>\n",
              "      <td>3</td>\n",
              "      <td>1.50</td>\n",
              "      <td>1634</td>\n",
              "      <td>14235</td>\n",
              "      <td>1</td>\n",
              "      <td>1961</td>\n",
              "      <td>0</td>\n",
              "      <td>1549</td>\n",
              "      <td>4440</td>\n",
              "      <td>210</td>\n",
              "      <td>1314</td>\n",
              "      <td>8</td>\n",
              "      <td>47.7195</td>\n",
              "      <td>-122.303</td>\n",
              "    </tr>\n",
              "  </tbody>\n",
              "</table>\n",
              "<p>511 rows × 14 columns</p>\n",
              "</div>\n",
              "    <div class=\"colab-df-buttons\">\n",
              "\n",
              "  <div class=\"colab-df-container\">\n",
              "    <button class=\"colab-df-convert\" onclick=\"convertToInteractive('df-00b366c3-683b-4880-88c1-6cb6d6e244aa')\"\n",
              "            title=\"Convert this dataframe to an interactive table.\"\n",
              "            style=\"display:none;\">\n",
              "\n",
              "  <svg xmlns=\"http://www.w3.org/2000/svg\" height=\"24px\" viewBox=\"0 -960 960 960\">\n",
              "    <path d=\"M120-120v-720h720v720H120Zm60-500h600v-160H180v160Zm220 220h160v-160H400v160Zm0 220h160v-160H400v160ZM180-400h160v-160H180v160Zm440 0h160v-160H620v160ZM180-180h160v-160H180v160Zm440 0h160v-160H620v160Z\"/>\n",
              "  </svg>\n",
              "    </button>\n",
              "\n",
              "  <style>\n",
              "    .colab-df-container {\n",
              "      display:flex;\n",
              "      gap: 12px;\n",
              "    }\n",
              "\n",
              "    .colab-df-convert {\n",
              "      background-color: #E8F0FE;\n",
              "      border: none;\n",
              "      border-radius: 50%;\n",
              "      cursor: pointer;\n",
              "      display: none;\n",
              "      fill: #1967D2;\n",
              "      height: 32px;\n",
              "      padding: 0 0 0 0;\n",
              "      width: 32px;\n",
              "    }\n",
              "\n",
              "    .colab-df-convert:hover {\n",
              "      background-color: #E2EBFA;\n",
              "      box-shadow: 0px 1px 2px rgba(60, 64, 67, 0.3), 0px 1px 3px 1px rgba(60, 64, 67, 0.15);\n",
              "      fill: #174EA6;\n",
              "    }\n",
              "\n",
              "    .colab-df-buttons div {\n",
              "      margin-bottom: 4px;\n",
              "    }\n",
              "\n",
              "    [theme=dark] .colab-df-convert {\n",
              "      background-color: #3B4455;\n",
              "      fill: #D2E3FC;\n",
              "    }\n",
              "\n",
              "    [theme=dark] .colab-df-convert:hover {\n",
              "      background-color: #434B5C;\n",
              "      box-shadow: 0px 1px 3px 1px rgba(0, 0, 0, 0.15);\n",
              "      filter: drop-shadow(0px 1px 2px rgba(0, 0, 0, 0.3));\n",
              "      fill: #FFFFFF;\n",
              "    }\n",
              "  </style>\n",
              "\n",
              "    <script>\n",
              "      const buttonEl =\n",
              "        document.querySelector('#df-00b366c3-683b-4880-88c1-6cb6d6e244aa button.colab-df-convert');\n",
              "      buttonEl.style.display =\n",
              "        google.colab.kernel.accessAllowed ? 'block' : 'none';\n",
              "\n",
              "      async function convertToInteractive(key) {\n",
              "        const element = document.querySelector('#df-00b366c3-683b-4880-88c1-6cb6d6e244aa');\n",
              "        const dataTable =\n",
              "          await google.colab.kernel.invokeFunction('convertToInteractive',\n",
              "                                                    [key], {});\n",
              "        if (!dataTable) return;\n",
              "\n",
              "        const docLinkHtml = 'Like what you see? Visit the ' +\n",
              "          '<a target=\"_blank\" href=https://colab.research.google.com/notebooks/data_table.ipynb>data table notebook</a>'\n",
              "          + ' to learn more about interactive tables.';\n",
              "        element.innerHTML = '';\n",
              "        dataTable['output_type'] = 'display_data';\n",
              "        await google.colab.output.renderOutput(dataTable, element);\n",
              "        const docLink = document.createElement('div');\n",
              "        docLink.innerHTML = docLinkHtml;\n",
              "        element.appendChild(docLink);\n",
              "      }\n",
              "    </script>\n",
              "  </div>\n",
              "\n",
              "\n",
              "<div id=\"df-bedd1192-253f-4e7a-891a-7d45067a03b1\">\n",
              "  <button class=\"colab-df-quickchart\" onclick=\"quickchart('df-bedd1192-253f-4e7a-891a-7d45067a03b1')\"\n",
              "            title=\"Suggest charts\"\n",
              "            style=\"display:none;\">\n",
              "\n",
              "<svg xmlns=\"http://www.w3.org/2000/svg\" height=\"24px\"viewBox=\"0 0 24 24\"\n",
              "     width=\"24px\">\n",
              "    <g>\n",
              "        <path d=\"M19 3H5c-1.1 0-2 .9-2 2v14c0 1.1.9 2 2 2h14c1.1 0 2-.9 2-2V5c0-1.1-.9-2-2-2zM9 17H7v-7h2v7zm4 0h-2V7h2v10zm4 0h-2v-4h2v4z\"/>\n",
              "    </g>\n",
              "</svg>\n",
              "  </button>\n",
              "\n",
              "<style>\n",
              "  .colab-df-quickchart {\n",
              "      --bg-color: #E8F0FE;\n",
              "      --fill-color: #1967D2;\n",
              "      --hover-bg-color: #E2EBFA;\n",
              "      --hover-fill-color: #174EA6;\n",
              "      --disabled-fill-color: #AAA;\n",
              "      --disabled-bg-color: #DDD;\n",
              "  }\n",
              "\n",
              "  [theme=dark] .colab-df-quickchart {\n",
              "      --bg-color: #3B4455;\n",
              "      --fill-color: #D2E3FC;\n",
              "      --hover-bg-color: #434B5C;\n",
              "      --hover-fill-color: #FFFFFF;\n",
              "      --disabled-bg-color: #3B4455;\n",
              "      --disabled-fill-color: #666;\n",
              "  }\n",
              "\n",
              "  .colab-df-quickchart {\n",
              "    background-color: var(--bg-color);\n",
              "    border: none;\n",
              "    border-radius: 50%;\n",
              "    cursor: pointer;\n",
              "    display: none;\n",
              "    fill: var(--fill-color);\n",
              "    height: 32px;\n",
              "    padding: 0;\n",
              "    width: 32px;\n",
              "  }\n",
              "\n",
              "  .colab-df-quickchart:hover {\n",
              "    background-color: var(--hover-bg-color);\n",
              "    box-shadow: 0 1px 2px rgba(60, 64, 67, 0.3), 0 1px 3px 1px rgba(60, 64, 67, 0.15);\n",
              "    fill: var(--button-hover-fill-color);\n",
              "  }\n",
              "\n",
              "  .colab-df-quickchart-complete:disabled,\n",
              "  .colab-df-quickchart-complete:disabled:hover {\n",
              "    background-color: var(--disabled-bg-color);\n",
              "    fill: var(--disabled-fill-color);\n",
              "    box-shadow: none;\n",
              "  }\n",
              "\n",
              "  .colab-df-spinner {\n",
              "    border: 2px solid var(--fill-color);\n",
              "    border-color: transparent;\n",
              "    border-bottom-color: var(--fill-color);\n",
              "    animation:\n",
              "      spin 1s steps(1) infinite;\n",
              "  }\n",
              "\n",
              "  @keyframes spin {\n",
              "    0% {\n",
              "      border-color: transparent;\n",
              "      border-bottom-color: var(--fill-color);\n",
              "      border-left-color: var(--fill-color);\n",
              "    }\n",
              "    20% {\n",
              "      border-color: transparent;\n",
              "      border-left-color: var(--fill-color);\n",
              "      border-top-color: var(--fill-color);\n",
              "    }\n",
              "    30% {\n",
              "      border-color: transparent;\n",
              "      border-left-color: var(--fill-color);\n",
              "      border-top-color: var(--fill-color);\n",
              "      border-right-color: var(--fill-color);\n",
              "    }\n",
              "    40% {\n",
              "      border-color: transparent;\n",
              "      border-right-color: var(--fill-color);\n",
              "      border-top-color: var(--fill-color);\n",
              "    }\n",
              "    60% {\n",
              "      border-color: transparent;\n",
              "      border-right-color: var(--fill-color);\n",
              "    }\n",
              "    80% {\n",
              "      border-color: transparent;\n",
              "      border-right-color: var(--fill-color);\n",
              "      border-bottom-color: var(--fill-color);\n",
              "    }\n",
              "    90% {\n",
              "      border-color: transparent;\n",
              "      border-bottom-color: var(--fill-color);\n",
              "    }\n",
              "  }\n",
              "</style>\n",
              "\n",
              "  <script>\n",
              "    async function quickchart(key) {\n",
              "      const quickchartButtonEl =\n",
              "        document.querySelector('#' + key + ' button');\n",
              "      quickchartButtonEl.disabled = true;  // To prevent multiple clicks.\n",
              "      quickchartButtonEl.classList.add('colab-df-spinner');\n",
              "      try {\n",
              "        const charts = await google.colab.kernel.invokeFunction(\n",
              "            'suggestCharts', [key], {});\n",
              "      } catch (error) {\n",
              "        console.error('Error during call to suggestCharts:', error);\n",
              "      }\n",
              "      quickchartButtonEl.classList.remove('colab-df-spinner');\n",
              "      quickchartButtonEl.classList.add('colab-df-quickchart-complete');\n",
              "    }\n",
              "    (() => {\n",
              "      let quickchartButtonEl =\n",
              "        document.querySelector('#df-bedd1192-253f-4e7a-891a-7d45067a03b1 button');\n",
              "      quickchartButtonEl.style.display =\n",
              "        google.colab.kernel.accessAllowed ? 'block' : 'none';\n",
              "    })();\n",
              "  </script>\n",
              "</div>\n",
              "    </div>\n",
              "  </div>\n"
            ]
          },
          "metadata": {},
          "execution_count": 231
        }
      ]
    },
    {
      "cell_type": "code",
      "source": [
        "# We re-fit the model3 to the test data.\n",
        "y_pred3 = Model3.predict(D2[selected_features])\n",
        "Model3_test_mse = MSE(y_test, y_pred3)\n",
        "print(f\"Model3 Test Mean Squared Error: {Model3_test_mse}\")"
      ],
      "metadata": {
        "colab": {
          "base_uri": "https://localhost:8080/"
        },
        "id": "7h6fz-eME6AL",
        "outputId": "73d15ed5-6628-4280-e918-765b080153ae"
      },
      "execution_count": null,
      "outputs": [
        {
          "output_type": "stream",
          "name": "stdout",
          "text": [
            "Model3 Test Mean Squared Error: 167685723886.26236\n"
          ]
        }
      ]
    },
    {
      "cell_type": "markdown",
      "source": [
        "## **Model 4: Ridge Regression.**"
      ],
      "metadata": {
        "id": "aTLVCDXrTW1w"
      }
    },
    {
      "cell_type": "code",
      "source": [
        "# We re-fit the model4 to the test data.\n",
        "y_pred4 = model4.predict(xt)\n",
        "Model4_test_mse = MSE(y_test, y_pred4)\n",
        "print(f\"Model4 Test Mean Squared Error: {Model4_test_mse}\")"
      ],
      "metadata": {
        "colab": {
          "base_uri": "https://localhost:8080/"
        },
        "id": "RW1vYok8GWDe",
        "outputId": "0e4ba8fb-acd4-4b87-956e-29850006004a"
      },
      "execution_count": null,
      "outputs": [
        {
          "output_type": "stream",
          "name": "stdout",
          "text": [
            "Model4 Test Mean Squared Error: 168004915061.7806\n"
          ]
        }
      ]
    },
    {
      "cell_type": "markdown",
      "source": [
        "##**Model 5: My Suggested Model.**"
      ],
      "metadata": {
        "id": "aMRBprJpTr1l"
      }
    },
    {
      "cell_type": "code",
      "source": [
        "# Split the House data into training and test sets in order to train the model. Recall Model1 only investigated the number of bedrooms defined as X_2.\n",
        "#Define the input variable.\n",
        "t_2= Df['bedrooms'].values.reshape(-1, 1)\n",
        "\n",
        "t_2_train, t_2_test, y_train, y_test = train_test_split(t_2, y, test_size=511, random_state=random_state)\n",
        "\n",
        "# Train a regression model using the first data.\n",
        "Model5 = LinearRegression()\n",
        "Model5.fit(t_2_train, y_train)\n",
        "\n",
        "#Define the input variable from the test dataset.\n",
        "tt_2 = Df2['bedrooms'].values.reshape(-1, 1)\n",
        "\n",
        "# Make predictions on the model using the test data.\n",
        "y_pred5 = Model5.predict(tt_2)\n",
        "\n",
        "\n",
        "Model5_test_mse= MSE(y_test, y_pred5)\n",
        "print(f\"Model5 Test Mean Squared Error: {Model5_test_mse}\")"
      ],
      "metadata": {
        "colab": {
          "base_uri": "https://localhost:8080/"
        },
        "id": "KgBwjUlLR99S",
        "outputId": "f9ee31dc-05b9-49b8-cf2c-0804cedeff8b"
      },
      "execution_count": null,
      "outputs": [
        {
          "output_type": "stream",
          "name": "stdout",
          "text": [
            "Model5 Test Mean Squared Error: 126977715519.19524\n"
          ]
        }
      ]
    },
    {
      "cell_type": "markdown",
      "source": [
        "# E2:Determine which model performs the best and provide an explanation."
      ],
      "metadata": {
        "id": "1h78C0h5XVWd"
      }
    },
    {
      "cell_type": "code",
      "source": [
        "print(f'The mean squared error of Model1_Testdata is {Model1_test_mse:.4f}')\n",
        "print(f'The mean squared error of Model2_Testdata is {poly_model2_test_mse:.4f}')\n",
        "print(f'The mean squared error of Model3_Testdata is {Model3_test_mse:.4f}')\n",
        "print(f'The mean squared error of Model4_Testdata is {Model4_test_mse:.4f}')\n",
        "print(f'The mean squared error of Model5_Testdata is {Model5_test_mse:.4f}')"
      ],
      "metadata": {
        "colab": {
          "base_uri": "https://localhost:8080/"
        },
        "id": "uStHTrsrNqGA",
        "outputId": "1c2ed28c-6998-43e7-a447-56b61745f34d"
      },
      "execution_count": null,
      "outputs": [
        {
          "output_type": "stream",
          "name": "stdout",
          "text": [
            "The mean squared error of Model1_Testdata is 157843833355.6022\n",
            "The mean squared error of Model2_Testdata is 146026757706.5356\n",
            "The mean squared error of Model3_Testdata is 167685723886.2624\n",
            "The mean squared error of Model4_Testdata is 168004915061.7806\n",
            "The mean squared error of Model5_Testdata is 126977715519.1952\n"
          ]
        }
      ]
    },
    {
      "cell_type": "markdown",
      "source": [
        "The mean squared error (MSE) is a measure of how close a regression line is to a set of points. It is calculated by taking the average of the squared differences between the predicted values and the true values. A lower MSE indicates a better fit of the regression line to the data.\n",
        "\n",
        "In this case,we had five different models (Model1, Model2, Model3, Model4, and Model5) to which we calculated the mean squared error (MSE) for each of them using test data provided. The MSE values generated indicate the average squared difference between the predicted values and the true values for each model. A lower MSE value indicates that the model is better at predicting the target variable (the house price).\n",
        "\n",
        "The MSE for Model 5 on the test dataset is the lowest among all the models. This indicates that, on average, Model 5 has predictions that are closer to the true values on the test data, suggesting better generalization compared to the other models.\n",
        "\n",
        "However, you should also consider other factors such as the complexity of the model, the interpretability of the results, and the assumptions of the regression analysis before making a final decision.\n"
      ],
      "metadata": {
        "id": "otcz0XSDWNX9"
      }
    },
    {
      "cell_type": "markdown",
      "source": [
        "# **F. Model Suggestion for Unlabelled Data**"
      ],
      "metadata": {
        "id": "WMzs-N67YE84"
      }
    },
    {
      "cell_type": "markdown",
      "source": [
        "# F1. Recommend one of the five models for application to unlabelled data and elucidate the reasons behind your choice"
      ],
      "metadata": {
        "id": "yiMuHW_LYMdu"
      }
    },
    {
      "cell_type": "markdown",
      "source": [
        "The evaluation of the models on the test data reveals that Model5_Testdata stands out as the top performer, exhibiting the lowest mean squared error (MSE). This implies that Model5 generalizes well to new, unseen data.\n",
        "\n",
        "Model2_Testdata also demonstrates a reasonable level of performance, suggesting that the polynomial regression model with degree 2 features is effective on the test set.\n",
        "\n",
        "**Recommendation:**\n",
        "\n",
        "Based on the MSE values observed on the test data, the recommendation is to prioritize the use of Model5 for application to unlabeled data. It has showcased superior performance in terms of mean squared error on the test set, indicating better generalization to new data. It's important to note that this recommendation is founded on MSE as the evaluation metric, and additional factors such as model complexity, interpretability, and specific requirements of your problem should be taken into consideration when making a final decision\n"
      ],
      "metadata": {
        "id": "EGRRmvEMbUmC"
      }
    },
    {
      "cell_type": "markdown",
      "source": [
        "# F2. Apply your selected model to the unlabelled dataset, create a ”predicted price” column"
      ],
      "metadata": {
        "id": "F-YEigzDeeWr"
      }
    },
    {
      "cell_type": "markdown",
      "source": [
        "The suggested model, Model5, was trained to forecast house prices based on the 'bedroom' feature, representing the number of bedrooms in houses. To extend these predictions to an unlabeled dataset, we gathered a sample of 5000 records from a real estate site, encompassing various house features, including the number of bedrooms.\n",
        "\n",
        "Using the 'bedroom' feature from this unlabeled dataset, Model5 will generate predictions for house prices. The outcome of this process is an array of predicted prices, denoted as predicted_prices\n"
      ],
      "metadata": {
        "id": "IpUyfh-VggLm"
      }
    },
    {
      "cell_type": "code",
      "source": [
        "print(selected_features)"
      ],
      "metadata": {
        "colab": {
          "base_uri": "https://localhost:8080/"
        },
        "id": "9ocqatOBk5Th",
        "outputId": "c003ebf4-1f58-4b1c-f67a-2d9c2caf5795"
      },
      "execution_count": null,
      "outputs": [
        {
          "output_type": "stream",
          "name": "stdout",
          "text": [
            "['sqft_living', 'lat', 'grade', 'yr_built', 'bedrooms', 'bathrooms', 'long', 'sqft_living15', 'yr_renovated', 'sqft_lot15', 'floors', 'sqft_basement', 'sqft_above', 'sqft_lot']\n"
          ]
        }
      ]
    },
    {
      "cell_type": "code",
      "source": [
        "# Set a seed for reproducibility\n",
        "np.random.seed(random_state)\n",
        "\n",
        "# Generate random data for features\n",
        "features = {'grade': np.random.randint(1,10, size=5000),\n",
        "            'lat': np.random.randn(5000),\n",
        "            'long': np.random.randn(5000),\n",
        "    'bedrooms': np.random.randint(1, 20, size=5000),  # Random integer between 1 and 9\n",
        "    'sqft_basement': np.random.randint(900,100000,size=5000),\n",
        "            'condition' : np.random.randint(1, 5, size=5000),\n",
        "'yr_built' : np.random.randint(1900, 2023, size=5000),\n",
        "'yr_renovated' : np.random.randint(1900, 2023, size=5000),\n",
        "'zipcode' : np.random.randint(98001, 98199, size=5000),\n",
        "    'sqft_above': np.random.randint(900,50000,size=5000),\n",
        "    'sqft_lot': np.random.randint(900,50000,size=5000),\n",
        "    'sqft_living': np.random.randint(90000,50000000,size=5000),\n",
        "    'bathrooms': np.random.randint(1,20,size=5000),\n",
        "    'floors': np.random.randint(1,10,size=5000),\n",
        "            'sqft_living15' : np.random.randint(900, 50000, size=5000),\n",
        "'sqft_lot15' : np.random.randint(900, 50000, size=5000)}\n",
        "# Create a DataFrame from the generated features\n",
        "unlabeled_data = pd.DataFrame(features)\n",
        "\n",
        "#Display the first few rows of the unlabeled data\n",
        "print(unlabeled_data.head())\n",
        "data3=unlabeled_data\n",
        "\n",
        "finalx= data3['bedrooms'].values.reshape(-1, 1)\n",
        "\n",
        "# Make predictions on the unlabelled dataset\n",
        "y_pred_final = Model5.predict(finalx)\n",
        "\n",
        "# Reshape predictions generated by the model\n",
        "predicted_price = y_pred_final.reshape(-1, 1)\n",
        "\n",
        "# Add the predicted price column to the unlabelled dataset\n",
        "unlabeled_data['predicted_price'] = predicted_price\n",
        "print(unlabeled_data.head(10))\n",
        "# Save the unlabeled data to a CSV file\n",
        "unlabeled_data.to_csv('500715647.csv', index=False)"
      ],
      "metadata": {
        "colab": {
          "base_uri": "https://localhost:8080/"
        },
        "id": "UP_dO61veuEo",
        "outputId": "6b70f04b-d4e5-4aba-cc46-417d030836f6"
      },
      "execution_count": null,
      "outputs": [
        {
          "output_type": "stream",
          "name": "stdout",
          "text": [
            "   grade       lat      long  bedrooms  sqft_basement  condition  yr_built  \\\n",
            "0      8  1.449660  1.520938        17          39617          4      1987   \n",
            "1      7 -1.360568 -1.449533         7          75462          3      2022   \n",
            "2      8  0.593646 -0.064142        13          11295          4      1937   \n",
            "3      9  0.533125  0.845145         4          76310          3      1912   \n",
            "4      9 -0.758145  2.741450        19          63143          1      1965   \n",
            "\n",
            "   yr_renovated  zipcode  sqft_above  sqft_lot  sqft_living  bathrooms  \\\n",
            "0          1958    98186       25228     31083     12360956         16   \n",
            "1          1958    98004        6325     31392     37924178         16   \n",
            "2          1978    98063       29500     38219     34545254         15   \n",
            "3          2007    98179       37051     42814     44725806         12   \n",
            "4          1935    98059       11669     31957     18859663         10   \n",
            "\n",
            "   floors  sqft_living15  sqft_lot15  \n",
            "0       6          47305       46414  \n",
            "1       6          37400       32398  \n",
            "2       2          33818       46153  \n",
            "3       7          33541       38047  \n",
            "4       8          44360       14414  \n",
            "   grade       lat      long  bedrooms  sqft_basement  condition  yr_built  \\\n",
            "0      8  1.449660  1.520938        17          39617          4      1987   \n",
            "1      7 -1.360568 -1.449533         7          75462          3      2022   \n",
            "2      8  0.593646 -0.064142        13          11295          4      1937   \n",
            "3      9  0.533125  0.845145         4          76310          3      1912   \n",
            "4      9 -0.758145  2.741450        19          63143          1      1965   \n",
            "5      4 -0.373759  0.684900        15          46842          1      2001   \n",
            "6      1  1.812898 -0.735883        18          79178          3      1900   \n",
            "7      8 -1.246476  0.570252        15          44074          3      2002   \n",
            "8      1 -0.670065 -1.455858         1           6209          4      1989   \n",
            "9      8 -1.319539 -1.708355        16          11624          4      1964   \n",
            "\n",
            "   yr_renovated  zipcode  sqft_above  sqft_lot  sqft_living  bathrooms  \\\n",
            "0          1958    98186       25228     31083     12360956         16   \n",
            "1          1958    98004        6325     31392     37924178         16   \n",
            "2          1978    98063       29500     38219     34545254         15   \n",
            "3          2007    98179       37051     42814     44725806         12   \n",
            "4          1935    98059       11669     31957     18859663         10   \n",
            "5          1965    98069        9520      4973     12474113          9   \n",
            "6          1906    98030       48808     13193     41240746          3   \n",
            "7          1972    98145       27545     48931     37107689          8   \n",
            "8          2007    98037       29041      3644     43987173         10   \n",
            "9          1962    98047       42091      9519     31676591         17   \n",
            "\n",
            "   floors  sqft_living15  sqft_lot15  predicted_price  \n",
            "0       6          47305       46414     2.194936e+06  \n",
            "1       6          37400       32398     9.808102e+05  \n",
            "2       2          33818       46153     1.709286e+06  \n",
            "3       7          33541       38047     6.165724e+05  \n",
            "4       8          44360       14414     2.437761e+06  \n",
            "5       1           4335       16559     1.952111e+06  \n",
            "6       5          37841       48151     2.316349e+06  \n",
            "7       2          45630        8765     1.952111e+06  \n",
            "8       8          21136       32278     2.523346e+05  \n",
            "9       4          49366       40124     2.073523e+06  \n"
          ]
        }
      ]
    }
  ]
}